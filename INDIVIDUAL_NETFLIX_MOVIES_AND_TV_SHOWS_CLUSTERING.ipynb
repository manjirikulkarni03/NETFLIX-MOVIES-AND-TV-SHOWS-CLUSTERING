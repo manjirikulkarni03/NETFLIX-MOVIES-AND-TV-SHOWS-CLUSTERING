{
  "nbformat": 4,
  "nbformat_minor": 0,
  "metadata": {
    "colab": {
      "provenance": [],
      "collapsed_sections": [
        "mDgbUHAGgjLW",
        "Bjjrf8-s3LEQ",
        "mzCtbolI3LEQ",
        "8-_ONtYu3TS0",
        "Y7h2YZpR41bk",
        "m46jmH1hci3V",
        "8_Dnd9VcfA-_",
        "_fltALIw3LEe",
        "4Of9eVA-YrdM",
        "iky9q4vBYrdO",
        "F6T5p64dYrdO",
        "tWVyHJxQAO4t",
        "KSlN3yHqYklG",
        "t6dVpIINYklI",
        "ijmpgYnKYklI",
        "sF9n2ssaLHlr",
        "zfMYwwKJLHls",
        "bamQiAODYuh1",
        "qYpmQ266Yuh3",
        "Y9tusX40Ij3n",
        "J0BYCvTRIj3o",
        "NC_X3p0fY2L0",
        "q29F0dvdveiT",
        "g-ATYxFrGrvw",
        "zsCqYLajpSv-",
        "DVZQQlKU6Q5e",
        "idALKLXCpSv_",
        "wBdrUh81pSwA",
        "gS_m4jaCpSwB",
        "5k-toal7pSwB",
        "bnbt7EOYpSwB",
        "vvuwGep-pSwC",
        "GAKYbTUApSwC",
        "QPLKL2tKpSwC",
        "YoFwJARMpSwC",
        "X37OX-w8pSwD",
        "zZLBPEmypSwD",
        "KiG1jE5BpSwE",
        "H5ti6KsmpSwE",
        "rFEWT8MppSwE",
        "LH8TCsi5pSwF",
        "PFywGxWNpSwF",
        "twtzl-s8pSwF",
        "ztC8P6gepSwG",
        "j5jj9rtNpSwG",
        "luGJZyZQpSwH",
        "f2_UovfApSwI",
        "gX3rlcmhpSwI",
        "bWsEwGgkpSwJ",
        "xoQIZglRpSwL",
        "cnSJ--rCpSwM",
        "1lRGmCVGpSwM",
        "PXJEFz4TpSwN",
        "B4UDhmyDpSwN",
        "ku2X-sg3pSwN",
        "6-3GzXXNpSwN",
        "btXE_i-kpSwO",
        "BE9pvNgTS3tO"
      ],
      "include_colab_link": true
    },
    "kernelspec": {
      "name": "python3",
      "display_name": "Python 3"
    },
    "language_info": {
      "name": "python"
    },
    "gpuClass": "standard",
    "accelerator": "GPU"
  },
  "cells": [
    {
      "cell_type": "markdown",
      "metadata": {
        "id": "view-in-github",
        "colab_type": "text"
      },
      "source": [
        "<a href=\"https://colab.research.google.com/github/manjirikulkarni03/NETFLIX-MOVIES-AND-TV-SHOWS-CLUSTERING/blob/main/INDIVIDUAL_NETFLIX_MOVIES_AND_TV_SHOWS_CLUSTERING.ipynb\" target=\"_parent\"><img src=\"https://colab.research.google.com/assets/colab-badge.svg\" alt=\"Open In Colab\"/></a>"
      ]
    },
    {
      "cell_type": "markdown",
      "source": [
        "# **Project Name**    - Cardiovascular Risk Prediction\n",
        "\n"
      ],
      "metadata": {
        "id": "vncDsAP0Gaoa"
      }
    },
    {
      "cell_type": "markdown",
      "source": [
        "##### **Project Type**    - Unsupervised Classification\n"
      ],
      "metadata": {
        "id": "beRrZCGUAJYm"
      }
    },
    {
      "cell_type": "markdown",
      "source": [
        "# **Project Summary -**"
      ],
      "metadata": {
        "id": "FJNUwmbgGyua"
      }
    },
    {
      "cell_type": "markdown",
      "source": [
        "# **GitHub Link -**"
      ],
      "metadata": {
        "id": "w6K7xa23Elo4"
      }
    },
    {
      "cell_type": "markdown",
      "source": [
        "Provide your GitHub Link here."
      ],
      "metadata": {
        "id": "h1o69JH3Eqqn"
      }
    },
    {
      "cell_type": "markdown",
      "source": [
        "# **Problem Statement**\n"
      ],
      "metadata": {
        "id": "yQaldy8SH6Dl"
      }
    },
    {
      "cell_type": "markdown",
      "source": [
        "# **General Guidelines** : -  "
      ],
      "metadata": {
        "id": "mDgbUHAGgjLW"
      }
    },
    {
      "cell_type": "markdown",
      "source": [
        "1.   Well-structured, formatted, and commented code is required. \n",
        "2.   Exception Handling, Production Grade Code & Deployment Ready Code will be a plus. Those students will be awarded some additional credits. \n",
        "     \n",
        "     The additional credits will have advantages over other students during Star Student selection.\n",
        "       \n",
        "             [ Note: - Deployment Ready Code is defined as, the whole .ipynb notebook should be executable in one go\n",
        "                       without a single error logged. ]\n",
        "\n",
        "3.   Each and every logic should have proper comments.\n",
        "4. You may add as many number of charts you want. Make Sure for each and every chart the following format should be answered.\n",
        "        \n",
        "\n",
        "```\n",
        "# Chart visualization code\n",
        "```\n",
        "            \n",
        "\n",
        "*   Why did you pick the specific chart?\n",
        "*   What is/are the insight(s) found from the chart?\n",
        "* Will the gained insights help creating a positive business impact? \n",
        "Are there any insights that lead to negative growth? Justify with specific reason.\n",
        "\n",
        "5. You have to create at least 15 logical & meaningful charts having important insights.\n",
        "\n",
        "\n",
        "[ Hints : - Do the Vizualization in  a structured way while following \"UBM\" Rule. \n",
        "\n",
        "U - Univariate Analysis,\n",
        "\n",
        "B - Bivariate Analysis (Numerical - Categorical, Numerical - Numerical, Categorical - Categorical)\n",
        "\n",
        "M - Multivariate Analysis\n",
        " ]\n",
        "\n",
        "\n",
        "\n",
        "\n",
        "\n",
        "6. You may add more ml algorithms for model creation. Make sure for each and every algorithm, the following format should be answered.\n",
        "\n",
        "\n",
        "*   Explain the ML Model used and it's performance using Evaluation metric Score Chart.\n",
        "\n",
        "\n",
        "*   Cross- Validation & Hyperparameter Tuning\n",
        "\n",
        "*   Have you seen any improvement? Note down the improvement with updates Evaluation metric Score Chart.\n",
        "\n",
        "*   Explain each evaluation metric's indication towards business and the business impact pf the ML model used.\n",
        "\n",
        "\n",
        "\n",
        "\n",
        "\n",
        "\n",
        "\n",
        "\n",
        "\n",
        "\n",
        "\n",
        "\n",
        "\n",
        "\n",
        "\n",
        "\n",
        "\n",
        "\n"
      ],
      "metadata": {
        "id": "ZrxVaUj-hHfC"
      }
    },
    {
      "cell_type": "markdown",
      "source": [
        "# ***Let's Begin !***"
      ],
      "metadata": {
        "id": "O_i_v8NEhb9l"
      }
    },
    {
      "cell_type": "markdown",
      "source": [
        "## ***1. Know Your Data***"
      ],
      "metadata": {
        "id": "ymtxDGS43LEM"
      }
    },
    {
      "cell_type": "markdown",
      "source": [
        "### Import Libraries"
      ],
      "metadata": {
        "id": "KE3qBIWU3LEN"
      }
    },
    {
      "cell_type": "code",
      "source": [
        "# Import Libraries\n",
        "# For data visualisation\n",
        "import numpy as np \n",
        "import pandas as pd\n",
        "import matplotlib.pyplot as plt\n",
        "import seaborn as sns\n",
        "%matplotlib inline\n",
        "\n",
        "# For feature engineering ans selection \n",
        "from sklearn.impute import KNNImputer\n",
        "from sklearn.model_selection import train_test_split\n",
        "from sklearn.preprocessing import StandardScaler\n",
        "from sklearn.feature_selection import chi2  #feature selection for classification\n",
        "from sklearn.metrics import recall_score    #to measure model performance\n",
        "\n",
        "# Machine learning model selection and implementation\n",
        "from sklearn.linear_model import LogisticRegression\n",
        "from sklearn.metrics import classification_report\n",
        "from sklearn.neighbors import KNeighborsClassifier\n",
        "from sklearn.naive_bayes import GaussianNB\n",
        "from sklearn.model_selection import GridSearchCV\n",
        "from sklearn.model_selection import RepeatedStratifiedKFold\n",
        "from sklearn.tree import DecisionTreeClassifier\n",
        "from sklearn.svm import SVC\n",
        "from sklearn.ensemble import RandomForestClassifier\n",
        "import xgboost as xgb\n",
        "\n",
        "# Importing classification metrics\n",
        "from sklearn.metrics import confusion_matrix, classification_report, roc_curve\n",
        "from sklearn.metrics import make_scorer, recall_score, f1_score\n",
        "\n",
        "# To create table\n",
        "from prettytable import PrettyTable\n",
        "\n",
        "# importing missingo library which helps us to visualize the missing values\n",
        "import missingno as msno\n",
        "\n",
        "# Ignore warnings\n",
        "import warnings\n",
        "warnings.filterwarnings('ignore')\n",
        "# Word Cloud library\n",
        "from wordcloud import WordCloud, STOPWORDS\n",
        "\n",
        "# library used for textual data prerocessing\n",
        "import string\n",
        "string.punctuation\n",
        "import nltk\n",
        "from nltk.corpus import stopwords\n",
        "nltk.download('stopwords')\n",
        "from nltk.stem.snowball import SnowballStemmer\n",
        "from sklearn.feature_extraction.text import CountVectorizer\n",
        "from sklearn.feature_extraction.text import TfidfVectorizer\n",
        "from sklearn.decomposition import PCA\n",
        "\n",
        "# library used for Clusters impelementation\n",
        "from sklearn.cluster import KMeans\n",
        "from sklearn.metrics import silhouette_score\n",
        "from sklearn.cluster import AgglomerativeClustering\n",
        "import scipy.cluster.hierarchy as shc\n",
        "\n",
        "# library used for building recommandation system\n",
        "from sklearn.feature_extraction.text import TfidfVectorizer\n",
        "from sklearn.metrics.pairwise import cosine_similarity\n",
        "\n",
        "# Warnings library. Would help to throw away warnings caused.\n",
        "import warnings\n",
        "warnings.filterwarnings('ignore')"
      ],
      "metadata": {
        "id": "v7QeMJfq3LEN",
        "colab": {
          "base_uri": "https://localhost:8080/"
        },
        "outputId": "fae4c512-6fdf-4b3c-f699-69f984906341"
      },
      "execution_count": 2,
      "outputs": [
        {
          "output_type": "stream",
          "name": "stderr",
          "text": [
            "[nltk_data] Downloading package stopwords to /root/nltk_data...\n",
            "[nltk_data]   Unzipping corpora/stopwords.zip.\n"
          ]
        }
      ]
    },
    {
      "cell_type": "markdown",
      "source": [
        "### Dataset Loading"
      ],
      "metadata": {
        "id": "xVib3p3Z3LEN"
      }
    },
    {
      "cell_type": "code",
      "source": [
        "from google.colab import drive\n",
        "drive.mount('/content/drive')"
      ],
      "metadata": {
        "id": "VkDfvcfLgQJF",
        "colab": {
          "base_uri": "https://localhost:8080/"
        },
        "outputId": "c45cf69e-c4cb-4e9a-f631-b025ef2f17a1"
      },
      "execution_count": 3,
      "outputs": [
        {
          "output_type": "stream",
          "name": "stdout",
          "text": [
            "Mounted at /content/drive\n"
          ]
        }
      ]
    },
    {
      "cell_type": "code",
      "source": [
        "# Load Dataset\n",
        "df= pd.read_csv(\"/content/drive/MyDrive/NETFLIX MOVIES AND TV SHOWS CLUSTERING.csv\")"
      ],
      "metadata": {
        "id": "acZI5LMV3LEO"
      },
      "execution_count": 4,
      "outputs": []
    },
    {
      "cell_type": "markdown",
      "source": [
        "### Dataset First View"
      ],
      "metadata": {
        "id": "oGRZPLDV3LEO"
      }
    },
    {
      "cell_type": "code",
      "source": [
        "# Dataset First Look\n",
        "df.head()"
      ],
      "metadata": {
        "colab": {
          "base_uri": "https://localhost:8080/",
          "height": 0
        },
        "outputId": "5baa5ea0-b5bc-43a0-b7c1-05a0b188c607",
        "id": "JHBlUEZX3LEO"
      },
      "execution_count": 5,
      "outputs": [
        {
          "output_type": "execute_result",
          "data": {
            "text/plain": [
              "  show_id     type  title           director  \\\n",
              "0      s1  TV Show     3%                NaN   \n",
              "1      s2    Movie   7:19  Jorge Michel Grau   \n",
              "2      s3    Movie  23:59       Gilbert Chan   \n",
              "3      s4    Movie      9        Shane Acker   \n",
              "4      s5    Movie     21     Robert Luketic   \n",
              "\n",
              "                                                cast        country  \\\n",
              "0  João Miguel, Bianca Comparato, Michel Gomes, R...         Brazil   \n",
              "1  Demián Bichir, Héctor Bonilla, Oscar Serrano, ...         Mexico   \n",
              "2  Tedd Chan, Stella Chung, Henley Hii, Lawrence ...      Singapore   \n",
              "3  Elijah Wood, John C. Reilly, Jennifer Connelly...  United States   \n",
              "4  Jim Sturgess, Kevin Spacey, Kate Bosworth, Aar...  United States   \n",
              "\n",
              "          date_added  release_year rating   duration  \\\n",
              "0    August 14, 2020          2020  TV-MA  4 Seasons   \n",
              "1  December 23, 2016          2016  TV-MA     93 min   \n",
              "2  December 20, 2018          2011      R     78 min   \n",
              "3  November 16, 2017          2009  PG-13     80 min   \n",
              "4    January 1, 2020          2008  PG-13    123 min   \n",
              "\n",
              "                                           listed_in  \\\n",
              "0  International TV Shows, TV Dramas, TV Sci-Fi &...   \n",
              "1                       Dramas, International Movies   \n",
              "2                Horror Movies, International Movies   \n",
              "3  Action & Adventure, Independent Movies, Sci-Fi...   \n",
              "4                                             Dramas   \n",
              "\n",
              "                                         description  \n",
              "0  In a future where the elite inhabit an island ...  \n",
              "1  After a devastating earthquake hits Mexico Cit...  \n",
              "2  When an army recruit is found dead, his fellow...  \n",
              "3  In a postapocalyptic world, rag-doll robots hi...  \n",
              "4  A brilliant group of students become card-coun...  "
            ],
            "text/html": [
              "\n",
              "  <div id=\"df-8e70e77b-47b6-4ca8-8830-d81a22e2997b\">\n",
              "    <div class=\"colab-df-container\">\n",
              "      <div>\n",
              "<style scoped>\n",
              "    .dataframe tbody tr th:only-of-type {\n",
              "        vertical-align: middle;\n",
              "    }\n",
              "\n",
              "    .dataframe tbody tr th {\n",
              "        vertical-align: top;\n",
              "    }\n",
              "\n",
              "    .dataframe thead th {\n",
              "        text-align: right;\n",
              "    }\n",
              "</style>\n",
              "<table border=\"1\" class=\"dataframe\">\n",
              "  <thead>\n",
              "    <tr style=\"text-align: right;\">\n",
              "      <th></th>\n",
              "      <th>show_id</th>\n",
              "      <th>type</th>\n",
              "      <th>title</th>\n",
              "      <th>director</th>\n",
              "      <th>cast</th>\n",
              "      <th>country</th>\n",
              "      <th>date_added</th>\n",
              "      <th>release_year</th>\n",
              "      <th>rating</th>\n",
              "      <th>duration</th>\n",
              "      <th>listed_in</th>\n",
              "      <th>description</th>\n",
              "    </tr>\n",
              "  </thead>\n",
              "  <tbody>\n",
              "    <tr>\n",
              "      <th>0</th>\n",
              "      <td>s1</td>\n",
              "      <td>TV Show</td>\n",
              "      <td>3%</td>\n",
              "      <td>NaN</td>\n",
              "      <td>João Miguel, Bianca Comparato, Michel Gomes, R...</td>\n",
              "      <td>Brazil</td>\n",
              "      <td>August 14, 2020</td>\n",
              "      <td>2020</td>\n",
              "      <td>TV-MA</td>\n",
              "      <td>4 Seasons</td>\n",
              "      <td>International TV Shows, TV Dramas, TV Sci-Fi &amp;...</td>\n",
              "      <td>In a future where the elite inhabit an island ...</td>\n",
              "    </tr>\n",
              "    <tr>\n",
              "      <th>1</th>\n",
              "      <td>s2</td>\n",
              "      <td>Movie</td>\n",
              "      <td>7:19</td>\n",
              "      <td>Jorge Michel Grau</td>\n",
              "      <td>Demián Bichir, Héctor Bonilla, Oscar Serrano, ...</td>\n",
              "      <td>Mexico</td>\n",
              "      <td>December 23, 2016</td>\n",
              "      <td>2016</td>\n",
              "      <td>TV-MA</td>\n",
              "      <td>93 min</td>\n",
              "      <td>Dramas, International Movies</td>\n",
              "      <td>After a devastating earthquake hits Mexico Cit...</td>\n",
              "    </tr>\n",
              "    <tr>\n",
              "      <th>2</th>\n",
              "      <td>s3</td>\n",
              "      <td>Movie</td>\n",
              "      <td>23:59</td>\n",
              "      <td>Gilbert Chan</td>\n",
              "      <td>Tedd Chan, Stella Chung, Henley Hii, Lawrence ...</td>\n",
              "      <td>Singapore</td>\n",
              "      <td>December 20, 2018</td>\n",
              "      <td>2011</td>\n",
              "      <td>R</td>\n",
              "      <td>78 min</td>\n",
              "      <td>Horror Movies, International Movies</td>\n",
              "      <td>When an army recruit is found dead, his fellow...</td>\n",
              "    </tr>\n",
              "    <tr>\n",
              "      <th>3</th>\n",
              "      <td>s4</td>\n",
              "      <td>Movie</td>\n",
              "      <td>9</td>\n",
              "      <td>Shane Acker</td>\n",
              "      <td>Elijah Wood, John C. Reilly, Jennifer Connelly...</td>\n",
              "      <td>United States</td>\n",
              "      <td>November 16, 2017</td>\n",
              "      <td>2009</td>\n",
              "      <td>PG-13</td>\n",
              "      <td>80 min</td>\n",
              "      <td>Action &amp; Adventure, Independent Movies, Sci-Fi...</td>\n",
              "      <td>In a postapocalyptic world, rag-doll robots hi...</td>\n",
              "    </tr>\n",
              "    <tr>\n",
              "      <th>4</th>\n",
              "      <td>s5</td>\n",
              "      <td>Movie</td>\n",
              "      <td>21</td>\n",
              "      <td>Robert Luketic</td>\n",
              "      <td>Jim Sturgess, Kevin Spacey, Kate Bosworth, Aar...</td>\n",
              "      <td>United States</td>\n",
              "      <td>January 1, 2020</td>\n",
              "      <td>2008</td>\n",
              "      <td>PG-13</td>\n",
              "      <td>123 min</td>\n",
              "      <td>Dramas</td>\n",
              "      <td>A brilliant group of students become card-coun...</td>\n",
              "    </tr>\n",
              "  </tbody>\n",
              "</table>\n",
              "</div>\n",
              "      <button class=\"colab-df-convert\" onclick=\"convertToInteractive('df-8e70e77b-47b6-4ca8-8830-d81a22e2997b')\"\n",
              "              title=\"Convert this dataframe to an interactive table.\"\n",
              "              style=\"display:none;\">\n",
              "        \n",
              "  <svg xmlns=\"http://www.w3.org/2000/svg\" height=\"24px\"viewBox=\"0 0 24 24\"\n",
              "       width=\"24px\">\n",
              "    <path d=\"M0 0h24v24H0V0z\" fill=\"none\"/>\n",
              "    <path d=\"M18.56 5.44l.94 2.06.94-2.06 2.06-.94-2.06-.94-.94-2.06-.94 2.06-2.06.94zm-11 1L8.5 8.5l.94-2.06 2.06-.94-2.06-.94L8.5 2.5l-.94 2.06-2.06.94zm10 10l.94 2.06.94-2.06 2.06-.94-2.06-.94-.94-2.06-.94 2.06-2.06.94z\"/><path d=\"M17.41 7.96l-1.37-1.37c-.4-.4-.92-.59-1.43-.59-.52 0-1.04.2-1.43.59L10.3 9.45l-7.72 7.72c-.78.78-.78 2.05 0 2.83L4 21.41c.39.39.9.59 1.41.59.51 0 1.02-.2 1.41-.59l7.78-7.78 2.81-2.81c.8-.78.8-2.07 0-2.86zM5.41 20L4 18.59l7.72-7.72 1.47 1.35L5.41 20z\"/>\n",
              "  </svg>\n",
              "      </button>\n",
              "      \n",
              "  <style>\n",
              "    .colab-df-container {\n",
              "      display:flex;\n",
              "      flex-wrap:wrap;\n",
              "      gap: 12px;\n",
              "    }\n",
              "\n",
              "    .colab-df-convert {\n",
              "      background-color: #E8F0FE;\n",
              "      border: none;\n",
              "      border-radius: 50%;\n",
              "      cursor: pointer;\n",
              "      display: none;\n",
              "      fill: #1967D2;\n",
              "      height: 32px;\n",
              "      padding: 0 0 0 0;\n",
              "      width: 32px;\n",
              "    }\n",
              "\n",
              "    .colab-df-convert:hover {\n",
              "      background-color: #E2EBFA;\n",
              "      box-shadow: 0px 1px 2px rgba(60, 64, 67, 0.3), 0px 1px 3px 1px rgba(60, 64, 67, 0.15);\n",
              "      fill: #174EA6;\n",
              "    }\n",
              "\n",
              "    [theme=dark] .colab-df-convert {\n",
              "      background-color: #3B4455;\n",
              "      fill: #D2E3FC;\n",
              "    }\n",
              "\n",
              "    [theme=dark] .colab-df-convert:hover {\n",
              "      background-color: #434B5C;\n",
              "      box-shadow: 0px 1px 3px 1px rgba(0, 0, 0, 0.15);\n",
              "      filter: drop-shadow(0px 1px 2px rgba(0, 0, 0, 0.3));\n",
              "      fill: #FFFFFF;\n",
              "    }\n",
              "  </style>\n",
              "\n",
              "      <script>\n",
              "        const buttonEl =\n",
              "          document.querySelector('#df-8e70e77b-47b6-4ca8-8830-d81a22e2997b button.colab-df-convert');\n",
              "        buttonEl.style.display =\n",
              "          google.colab.kernel.accessAllowed ? 'block' : 'none';\n",
              "\n",
              "        async function convertToInteractive(key) {\n",
              "          const element = document.querySelector('#df-8e70e77b-47b6-4ca8-8830-d81a22e2997b');\n",
              "          const dataTable =\n",
              "            await google.colab.kernel.invokeFunction('convertToInteractive',\n",
              "                                                     [key], {});\n",
              "          if (!dataTable) return;\n",
              "\n",
              "          const docLinkHtml = 'Like what you see? Visit the ' +\n",
              "            '<a target=\"_blank\" href=https://colab.research.google.com/notebooks/data_table.ipynb>data table notebook</a>'\n",
              "            + ' to learn more about interactive tables.';\n",
              "          element.innerHTML = '';\n",
              "          dataTable['output_type'] = 'display_data';\n",
              "          await google.colab.output.renderOutput(dataTable, element);\n",
              "          const docLink = document.createElement('div');\n",
              "          docLink.innerHTML = docLinkHtml;\n",
              "          element.appendChild(docLink);\n",
              "        }\n",
              "      </script>\n",
              "    </div>\n",
              "  </div>\n",
              "  "
            ]
          },
          "metadata": {},
          "execution_count": 5
        }
      ]
    },
    {
      "cell_type": "markdown",
      "source": [
        "### Dataset Rows & Columns count"
      ],
      "metadata": {
        "id": "du6LjiQx3LEO"
      }
    },
    {
      "cell_type": "code",
      "source": [
        "# Dataset Rows & Columns count\n",
        "print(f\"Netflix content Dataset: Rows= {df.shape[0]}, Columns= {df.shape[1]}\")"
      ],
      "metadata": {
        "colab": {
          "base_uri": "https://localhost:8080/"
        },
        "outputId": "5c4e6499-ed66-423e-d705-f49d3489e8e7",
        "id": "5XrBCC-H3LEP"
      },
      "execution_count": 6,
      "outputs": [
        {
          "output_type": "stream",
          "name": "stdout",
          "text": [
            "Netflix content Dataset: Rows= 7787, Columns= 12\n"
          ]
        }
      ]
    },
    {
      "cell_type": "markdown",
      "source": [
        "### Dataset Information"
      ],
      "metadata": {
        "id": "I_PF-rwR3LEP"
      }
    },
    {
      "cell_type": "code",
      "source": [
        "# Dataset Info\n",
        "df.info()"
      ],
      "metadata": {
        "colab": {
          "base_uri": "https://localhost:8080/"
        },
        "outputId": "ec9a284f-e075-47e5-812c-1891eeced570",
        "id": "afnFdi6M3LEP"
      },
      "execution_count": 7,
      "outputs": [
        {
          "output_type": "stream",
          "name": "stdout",
          "text": [
            "<class 'pandas.core.frame.DataFrame'>\n",
            "RangeIndex: 7787 entries, 0 to 7786\n",
            "Data columns (total 12 columns):\n",
            " #   Column        Non-Null Count  Dtype \n",
            "---  ------        --------------  ----- \n",
            " 0   show_id       7787 non-null   object\n",
            " 1   type          7787 non-null   object\n",
            " 2   title         7787 non-null   object\n",
            " 3   director      5398 non-null   object\n",
            " 4   cast          7069 non-null   object\n",
            " 5   country       7280 non-null   object\n",
            " 6   date_added    7777 non-null   object\n",
            " 7   release_year  7787 non-null   int64 \n",
            " 8   rating        7780 non-null   object\n",
            " 9   duration      7787 non-null   object\n",
            " 10  listed_in     7787 non-null   object\n",
            " 11  description   7787 non-null   object\n",
            "dtypes: int64(1), object(11)\n",
            "memory usage: 730.2+ KB\n"
          ]
        }
      ]
    },
    {
      "cell_type": "markdown",
      "source": [
        "#### Duplicate Values"
      ],
      "metadata": {
        "id": "9h6ZE3yq3LEP"
      }
    },
    {
      "cell_type": "code",
      "source": [
        "# Dataset Duplicate Value Count\n",
        "print(f\"The total number of duplicated observations in the dataset: {df.duplicated().sum()}\")"
      ],
      "metadata": {
        "colab": {
          "base_uri": "https://localhost:8080/"
        },
        "outputId": "605afd02-71be-451c-c3f2-2dc234933f60",
        "id": "yu-N4W6M3LEP"
      },
      "execution_count": 8,
      "outputs": [
        {
          "output_type": "stream",
          "name": "stdout",
          "text": [
            "The total number of duplicated observations in the dataset: 0\n"
          ]
        }
      ]
    },
    {
      "cell_type": "markdown",
      "source": [
        "Its good to see that we do not have any duplicated observations in our dataset."
      ],
      "metadata": {
        "id": "7QaedK5ti2Nq"
      }
    },
    {
      "cell_type": "markdown",
      "source": [
        "#### Missing Values/Null Values"
      ],
      "metadata": {
        "id": "Bjjrf8-s3LEQ"
      }
    },
    {
      "cell_type": "code",
      "source": [
        "# function for determination of null values, uniques values in columns and there features.\n",
        "def Complete_columns_info(df):\n",
        "        mis_val =df.isna().sum()\n",
        "        mis_val_percent = 100 *df.isna().sum() / len(df)\n",
        "        unique_val= df.nunique()\n",
        "        cci_table = pd.concat([mis_val, mis_val_percent, unique_val], axis=1)\n",
        "        cci_table = cci_table.rename(columns = {0 : 'No of Null Values', 1 : '% of null values', 2 : 'No of unique values' })\n",
        "        cci_table['Data Type'] = df.dtypes\n",
        "        cci_table = cci_table.sort_values('% of null values', ascending=False).round(1)\n",
        "        print (\" selected dataframe has \" + str(df.shape[1]) + \" columns and \" + str(df.shape[0]),\"rows\")\n",
        "        return cci_table"
      ],
      "metadata": {
        "id": "lJCEqpEy7ODB"
      },
      "execution_count": 9,
      "outputs": []
    },
    {
      "cell_type": "code",
      "source": [
        "Complete_columns_info(df)"
      ],
      "metadata": {
        "id": "7MAyRcMV7PRq",
        "colab": {
          "base_uri": "https://localhost:8080/",
          "height": 0
        },
        "outputId": "9e9a7007-4d4f-475a-c656-4cced7817ba7"
      },
      "execution_count": 10,
      "outputs": [
        {
          "output_type": "stream",
          "name": "stdout",
          "text": [
            " selected dataframe has 12 columns and 7787 rows\n"
          ]
        },
        {
          "output_type": "execute_result",
          "data": {
            "text/plain": [
              "              No of Null Values  % of null values  No of unique values  \\\n",
              "director                   2389              30.7                 4049   \n",
              "cast                        718               9.2                 6831   \n",
              "country                     507               6.5                  681   \n",
              "date_added                   10               0.1                 1565   \n",
              "rating                        7               0.1                   14   \n",
              "show_id                       0               0.0                 7787   \n",
              "type                          0               0.0                    2   \n",
              "title                         0               0.0                 7787   \n",
              "release_year                  0               0.0                   73   \n",
              "duration                      0               0.0                  216   \n",
              "listed_in                     0               0.0                  492   \n",
              "description                   0               0.0                 7769   \n",
              "\n",
              "             Data Type  \n",
              "director        object  \n",
              "cast            object  \n",
              "country         object  \n",
              "date_added      object  \n",
              "rating          object  \n",
              "show_id         object  \n",
              "type            object  \n",
              "title           object  \n",
              "release_year     int64  \n",
              "duration        object  \n",
              "listed_in       object  \n",
              "description     object  "
            ],
            "text/html": [
              "\n",
              "  <div id=\"df-6756b033-086a-4d96-9cb8-bcf8709ad239\">\n",
              "    <div class=\"colab-df-container\">\n",
              "      <div>\n",
              "<style scoped>\n",
              "    .dataframe tbody tr th:only-of-type {\n",
              "        vertical-align: middle;\n",
              "    }\n",
              "\n",
              "    .dataframe tbody tr th {\n",
              "        vertical-align: top;\n",
              "    }\n",
              "\n",
              "    .dataframe thead th {\n",
              "        text-align: right;\n",
              "    }\n",
              "</style>\n",
              "<table border=\"1\" class=\"dataframe\">\n",
              "  <thead>\n",
              "    <tr style=\"text-align: right;\">\n",
              "      <th></th>\n",
              "      <th>No of Null Values</th>\n",
              "      <th>% of null values</th>\n",
              "      <th>No of unique values</th>\n",
              "      <th>Data Type</th>\n",
              "    </tr>\n",
              "  </thead>\n",
              "  <tbody>\n",
              "    <tr>\n",
              "      <th>director</th>\n",
              "      <td>2389</td>\n",
              "      <td>30.7</td>\n",
              "      <td>4049</td>\n",
              "      <td>object</td>\n",
              "    </tr>\n",
              "    <tr>\n",
              "      <th>cast</th>\n",
              "      <td>718</td>\n",
              "      <td>9.2</td>\n",
              "      <td>6831</td>\n",
              "      <td>object</td>\n",
              "    </tr>\n",
              "    <tr>\n",
              "      <th>country</th>\n",
              "      <td>507</td>\n",
              "      <td>6.5</td>\n",
              "      <td>681</td>\n",
              "      <td>object</td>\n",
              "    </tr>\n",
              "    <tr>\n",
              "      <th>date_added</th>\n",
              "      <td>10</td>\n",
              "      <td>0.1</td>\n",
              "      <td>1565</td>\n",
              "      <td>object</td>\n",
              "    </tr>\n",
              "    <tr>\n",
              "      <th>rating</th>\n",
              "      <td>7</td>\n",
              "      <td>0.1</td>\n",
              "      <td>14</td>\n",
              "      <td>object</td>\n",
              "    </tr>\n",
              "    <tr>\n",
              "      <th>show_id</th>\n",
              "      <td>0</td>\n",
              "      <td>0.0</td>\n",
              "      <td>7787</td>\n",
              "      <td>object</td>\n",
              "    </tr>\n",
              "    <tr>\n",
              "      <th>type</th>\n",
              "      <td>0</td>\n",
              "      <td>0.0</td>\n",
              "      <td>2</td>\n",
              "      <td>object</td>\n",
              "    </tr>\n",
              "    <tr>\n",
              "      <th>title</th>\n",
              "      <td>0</td>\n",
              "      <td>0.0</td>\n",
              "      <td>7787</td>\n",
              "      <td>object</td>\n",
              "    </tr>\n",
              "    <tr>\n",
              "      <th>release_year</th>\n",
              "      <td>0</td>\n",
              "      <td>0.0</td>\n",
              "      <td>73</td>\n",
              "      <td>int64</td>\n",
              "    </tr>\n",
              "    <tr>\n",
              "      <th>duration</th>\n",
              "      <td>0</td>\n",
              "      <td>0.0</td>\n",
              "      <td>216</td>\n",
              "      <td>object</td>\n",
              "    </tr>\n",
              "    <tr>\n",
              "      <th>listed_in</th>\n",
              "      <td>0</td>\n",
              "      <td>0.0</td>\n",
              "      <td>492</td>\n",
              "      <td>object</td>\n",
              "    </tr>\n",
              "    <tr>\n",
              "      <th>description</th>\n",
              "      <td>0</td>\n",
              "      <td>0.0</td>\n",
              "      <td>7769</td>\n",
              "      <td>object</td>\n",
              "    </tr>\n",
              "  </tbody>\n",
              "</table>\n",
              "</div>\n",
              "      <button class=\"colab-df-convert\" onclick=\"convertToInteractive('df-6756b033-086a-4d96-9cb8-bcf8709ad239')\"\n",
              "              title=\"Convert this dataframe to an interactive table.\"\n",
              "              style=\"display:none;\">\n",
              "        \n",
              "  <svg xmlns=\"http://www.w3.org/2000/svg\" height=\"24px\"viewBox=\"0 0 24 24\"\n",
              "       width=\"24px\">\n",
              "    <path d=\"M0 0h24v24H0V0z\" fill=\"none\"/>\n",
              "    <path d=\"M18.56 5.44l.94 2.06.94-2.06 2.06-.94-2.06-.94-.94-2.06-.94 2.06-2.06.94zm-11 1L8.5 8.5l.94-2.06 2.06-.94-2.06-.94L8.5 2.5l-.94 2.06-2.06.94zm10 10l.94 2.06.94-2.06 2.06-.94-2.06-.94-.94-2.06-.94 2.06-2.06.94z\"/><path d=\"M17.41 7.96l-1.37-1.37c-.4-.4-.92-.59-1.43-.59-.52 0-1.04.2-1.43.59L10.3 9.45l-7.72 7.72c-.78.78-.78 2.05 0 2.83L4 21.41c.39.39.9.59 1.41.59.51 0 1.02-.2 1.41-.59l7.78-7.78 2.81-2.81c.8-.78.8-2.07 0-2.86zM5.41 20L4 18.59l7.72-7.72 1.47 1.35L5.41 20z\"/>\n",
              "  </svg>\n",
              "      </button>\n",
              "      \n",
              "  <style>\n",
              "    .colab-df-container {\n",
              "      display:flex;\n",
              "      flex-wrap:wrap;\n",
              "      gap: 12px;\n",
              "    }\n",
              "\n",
              "    .colab-df-convert {\n",
              "      background-color: #E8F0FE;\n",
              "      border: none;\n",
              "      border-radius: 50%;\n",
              "      cursor: pointer;\n",
              "      display: none;\n",
              "      fill: #1967D2;\n",
              "      height: 32px;\n",
              "      padding: 0 0 0 0;\n",
              "      width: 32px;\n",
              "    }\n",
              "\n",
              "    .colab-df-convert:hover {\n",
              "      background-color: #E2EBFA;\n",
              "      box-shadow: 0px 1px 2px rgba(60, 64, 67, 0.3), 0px 1px 3px 1px rgba(60, 64, 67, 0.15);\n",
              "      fill: #174EA6;\n",
              "    }\n",
              "\n",
              "    [theme=dark] .colab-df-convert {\n",
              "      background-color: #3B4455;\n",
              "      fill: #D2E3FC;\n",
              "    }\n",
              "\n",
              "    [theme=dark] .colab-df-convert:hover {\n",
              "      background-color: #434B5C;\n",
              "      box-shadow: 0px 1px 3px 1px rgba(0, 0, 0, 0.15);\n",
              "      filter: drop-shadow(0px 1px 2px rgba(0, 0, 0, 0.3));\n",
              "      fill: #FFFFFF;\n",
              "    }\n",
              "  </style>\n",
              "\n",
              "      <script>\n",
              "        const buttonEl =\n",
              "          document.querySelector('#df-6756b033-086a-4d96-9cb8-bcf8709ad239 button.colab-df-convert');\n",
              "        buttonEl.style.display =\n",
              "          google.colab.kernel.accessAllowed ? 'block' : 'none';\n",
              "\n",
              "        async function convertToInteractive(key) {\n",
              "          const element = document.querySelector('#df-6756b033-086a-4d96-9cb8-bcf8709ad239');\n",
              "          const dataTable =\n",
              "            await google.colab.kernel.invokeFunction('convertToInteractive',\n",
              "                                                     [key], {});\n",
              "          if (!dataTable) return;\n",
              "\n",
              "          const docLinkHtml = 'Like what you see? Visit the ' +\n",
              "            '<a target=\"_blank\" href=https://colab.research.google.com/notebooks/data_table.ipynb>data table notebook</a>'\n",
              "            + ' to learn more about interactive tables.';\n",
              "          element.innerHTML = '';\n",
              "          dataTable['output_type'] = 'display_data';\n",
              "          await google.colab.output.renderOutput(dataTable, element);\n",
              "          const docLink = document.createElement('div');\n",
              "          docLink.innerHTML = docLinkHtml;\n",
              "          element.appendChild(docLink);\n",
              "        }\n",
              "      </script>\n",
              "    </div>\n",
              "  </div>\n",
              "  "
            ]
          },
          "metadata": {},
          "execution_count": 10
        }
      ]
    },
    {
      "cell_type": "code",
      "source": [
        "# Visualizing the missing values\n",
        "msno.bar(df,figsize=(15,5), color=\"green\")"
      ],
      "metadata": {
        "colab": {
          "base_uri": "https://localhost:8080/",
          "height": 0
        },
        "id": "toglc_PFMdW0",
        "outputId": "a1f90bb6-852c-45d4-a308-94acdca057d0"
      },
      "execution_count": 11,
      "outputs": [
        {
          "output_type": "execute_result",
          "data": {
            "text/plain": [
              "<Axes: >"
            ]
          },
          "metadata": {},
          "execution_count": 11
        },
        {
          "output_type": "display_data",
          "data": {
            "text/plain": [
              "<Figure size 1080x360 with 3 Axes>"
            ],
            "image/png": "[encoded data removed]"
          },
          "metadata": {
            "needs_background": "light"
          }
        }
      ]
    },
    {
      "cell_type": "markdown",
      "source": [
        "### What did you know about your dataset?"
      ],
      "metadata": {
        "id": "mzCtbolI3LEQ"
      }
    },
    {
      "cell_type": "markdown",
      "source": [
        "We get to know the following points about our dataset:\n",
        "1. The dataset contains 7787 rows and 12 columns.\n",
        "2. The dataset don't have any duplicated observations.\n",
        "3. All features are object type except release_year.\n",
        "4. The null values present in 'director', 'cast', 'country', 'date_added' and 'ratting' features with the percentage of 30.7%, 9.2%, 6.5%, 0.1%, 0.1% respectively."
      ],
      "metadata": {
        "id": "LDA-GFdR3LEQ"
      }
    },
    {
      "cell_type": "markdown",
      "source": [
        "## ***2. Understanding Your Variables***"
      ],
      "metadata": {
        "id": "8-_ONtYu3TS0"
      }
    },
    {
      "cell_type": "code",
      "source": [
        "# Dataset Columns\n",
        "print(f\"Available columns:\\n{df.columns.to_list()}\")"
      ],
      "metadata": {
        "colab": {
          "base_uri": "https://localhost:8080/"
        },
        "outputId": "f619a554-0d60-4edf-ce46-d0d8fd2dcb7c",
        "id": "Crr7vjkF3TS1"
      },
      "execution_count": 12,
      "outputs": [
        {
          "output_type": "stream",
          "name": "stdout",
          "text": [
            "Available columns:\n",
            "['show_id', 'type', 'title', 'director', 'cast', 'country', 'date_added', 'release_year', 'rating', 'duration', 'listed_in', 'description']\n"
          ]
        }
      ]
    },
    {
      "cell_type": "code",
      "source": [
        "#basic description\n",
        "df.describe(include = 'all')"
      ],
      "metadata": {
        "colab": {
          "base_uri": "https://localhost:8080/",
          "height": 0
        },
        "id": "4oM9j2vj-r4i",
        "outputId": "5ffcd1fb-e4bd-4f7d-a5e9-cb29b6a58b5d"
      },
      "execution_count": 13,
      "outputs": [
        {
          "output_type": "execute_result",
          "data": {
            "text/plain": [
              "       show_id   type title                director                cast  \\\n",
              "count     7787   7787  7787                    5398                7069   \n",
              "unique    7787      2  7787                    4049                6831   \n",
              "top         s1  Movie    3%  Raúl Campos, Jan Suter  David Attenborough   \n",
              "freq         1   5377     1                      18                  18   \n",
              "mean       NaN    NaN   NaN                     NaN                 NaN   \n",
              "std        NaN    NaN   NaN                     NaN                 NaN   \n",
              "min        NaN    NaN   NaN                     NaN                 NaN   \n",
              "25%        NaN    NaN   NaN                     NaN                 NaN   \n",
              "50%        NaN    NaN   NaN                     NaN                 NaN   \n",
              "75%        NaN    NaN   NaN                     NaN                 NaN   \n",
              "max        NaN    NaN   NaN                     NaN                 NaN   \n",
              "\n",
              "              country       date_added  release_year rating  duration  \\\n",
              "count            7280             7777   7787.000000   7780      7787   \n",
              "unique            681             1565           NaN     14       216   \n",
              "top     United States  January 1, 2020           NaN  TV-MA  1 Season   \n",
              "freq             2555              118           NaN   2863      1608   \n",
              "mean              NaN              NaN   2013.932580    NaN       NaN   \n",
              "std               NaN              NaN      8.757395    NaN       NaN   \n",
              "min               NaN              NaN   1925.000000    NaN       NaN   \n",
              "25%               NaN              NaN   2013.000000    NaN       NaN   \n",
              "50%               NaN              NaN   2017.000000    NaN       NaN   \n",
              "75%               NaN              NaN   2018.000000    NaN       NaN   \n",
              "max               NaN              NaN   2021.000000    NaN       NaN   \n",
              "\n",
              "            listed_in                                        description  \n",
              "count            7787                                               7787  \n",
              "unique            492                                               7769  \n",
              "top     Documentaries  Multiple women report their husbands as missin...  \n",
              "freq              334                                                  3  \n",
              "mean              NaN                                                NaN  \n",
              "std               NaN                                                NaN  \n",
              "min               NaN                                                NaN  \n",
              "25%               NaN                                                NaN  \n",
              "50%               NaN                                                NaN  \n",
              "75%               NaN                                                NaN  \n",
              "max               NaN                                                NaN  "
            ],
            "text/html": [
              "\n",
              "  <div id=\"df-042a16af-e96e-475d-8d26-6dd7f10ed946\">\n",
              "    <div class=\"colab-df-container\">\n",
              "      <div>\n",
              "<style scoped>\n",
              "    .dataframe tbody tr th:only-of-type {\n",
              "        vertical-align: middle;\n",
              "    }\n",
              "\n",
              "    .dataframe tbody tr th {\n",
              "        vertical-align: top;\n",
              "    }\n",
              "\n",
              "    .dataframe thead th {\n",
              "        text-align: right;\n",
              "    }\n",
              "</style>\n",
              "<table border=\"1\" class=\"dataframe\">\n",
              "  <thead>\n",
              "    <tr style=\"text-align: right;\">\n",
              "      <th></th>\n",
              "      <th>show_id</th>\n",
              "      <th>type</th>\n",
              "      <th>title</th>\n",
              "      <th>director</th>\n",
              "      <th>cast</th>\n",
              "      <th>country</th>\n",
              "      <th>date_added</th>\n",
              "      <th>release_year</th>\n",
              "      <th>rating</th>\n",
              "      <th>duration</th>\n",
              "      <th>listed_in</th>\n",
              "      <th>description</th>\n",
              "    </tr>\n",
              "  </thead>\n",
              "  <tbody>\n",
              "    <tr>\n",
              "      <th>count</th>\n",
              "      <td>7787</td>\n",
              "      <td>7787</td>\n",
              "      <td>7787</td>\n",
              "      <td>5398</td>\n",
              "      <td>7069</td>\n",
              "      <td>7280</td>\n",
              "      <td>7777</td>\n",
              "      <td>7787.000000</td>\n",
              "      <td>7780</td>\n",
              "      <td>7787</td>\n",
              "      <td>7787</td>\n",
              "      <td>7787</td>\n",
              "    </tr>\n",
              "    <tr>\n",
              "      <th>unique</th>\n",
              "      <td>7787</td>\n",
              "      <td>2</td>\n",
              "      <td>7787</td>\n",
              "      <td>4049</td>\n",
              "      <td>6831</td>\n",
              "      <td>681</td>\n",
              "      <td>1565</td>\n",
              "      <td>NaN</td>\n",
              "      <td>14</td>\n",
              "      <td>216</td>\n",
              "      <td>492</td>\n",
              "      <td>7769</td>\n",
              "    </tr>\n",
              "    <tr>\n",
              "      <th>top</th>\n",
              "      <td>s1</td>\n",
              "      <td>Movie</td>\n",
              "      <td>3%</td>\n",
              "      <td>Raúl Campos, Jan Suter</td>\n",
              "      <td>David Attenborough</td>\n",
              "      <td>United States</td>\n",
              "      <td>January 1, 2020</td>\n",
              "      <td>NaN</td>\n",
              "      <td>TV-MA</td>\n",
              "      <td>1 Season</td>\n",
              "      <td>Documentaries</td>\n",
              "      <td>Multiple women report their husbands as missin...</td>\n",
              "    </tr>\n",
              "    <tr>\n",
              "      <th>freq</th>\n",
              "      <td>1</td>\n",
              "      <td>5377</td>\n",
              "      <td>1</td>\n",
              "      <td>18</td>\n",
              "      <td>18</td>\n",
              "      <td>2555</td>\n",
              "      <td>118</td>\n",
              "      <td>NaN</td>\n",
              "      <td>2863</td>\n",
              "      <td>1608</td>\n",
              "      <td>334</td>\n",
              "      <td>3</td>\n",
              "    </tr>\n",
              "    <tr>\n",
              "      <th>mean</th>\n",
              "      <td>NaN</td>\n",
              "      <td>NaN</td>\n",
              "      <td>NaN</td>\n",
              "      <td>NaN</td>\n",
              "      <td>NaN</td>\n",
              "      <td>NaN</td>\n",
              "      <td>NaN</td>\n",
              "      <td>2013.932580</td>\n",
              "      <td>NaN</td>\n",
              "      <td>NaN</td>\n",
              "      <td>NaN</td>\n",
              "      <td>NaN</td>\n",
              "    </tr>\n",
              "    <tr>\n",
              "      <th>std</th>\n",
              "      <td>NaN</td>\n",
              "      <td>NaN</td>\n",
              "      <td>NaN</td>\n",
              "      <td>NaN</td>\n",
              "      <td>NaN</td>\n",
              "      <td>NaN</td>\n",
              "      <td>NaN</td>\n",
              "      <td>8.757395</td>\n",
              "      <td>NaN</td>\n",
              "      <td>NaN</td>\n",
              "      <td>NaN</td>\n",
              "      <td>NaN</td>\n",
              "    </tr>\n",
              "    <tr>\n",
              "      <th>min</th>\n",
              "      <td>NaN</td>\n",
              "      <td>NaN</td>\n",
              "      <td>NaN</td>\n",
              "      <td>NaN</td>\n",
              "      <td>NaN</td>\n",
              "      <td>NaN</td>\n",
              "      <td>NaN</td>\n",
              "      <td>1925.000000</td>\n",
              "      <td>NaN</td>\n",
              "      <td>NaN</td>\n",
              "      <td>NaN</td>\n",
              "      <td>NaN</td>\n",
              "    </tr>\n",
              "    <tr>\n",
              "      <th>25%</th>\n",
              "      <td>NaN</td>\n",
              "      <td>NaN</td>\n",
              "      <td>NaN</td>\n",
              "      <td>NaN</td>\n",
              "      <td>NaN</td>\n",
              "      <td>NaN</td>\n",
              "      <td>NaN</td>\n",
              "      <td>2013.000000</td>\n",
              "      <td>NaN</td>\n",
              "      <td>NaN</td>\n",
              "      <td>NaN</td>\n",
              "      <td>NaN</td>\n",
              "    </tr>\n",
              "    <tr>\n",
              "      <th>50%</th>\n",
              "      <td>NaN</td>\n",
              "      <td>NaN</td>\n",
              "      <td>NaN</td>\n",
              "      <td>NaN</td>\n",
              "      <td>NaN</td>\n",
              "      <td>NaN</td>\n",
              "      <td>NaN</td>\n",
              "      <td>2017.000000</td>\n",
              "      <td>NaN</td>\n",
              "      <td>NaN</td>\n",
              "      <td>NaN</td>\n",
              "      <td>NaN</td>\n",
              "    </tr>\n",
              "    <tr>\n",
              "      <th>75%</th>\n",
              "      <td>NaN</td>\n",
              "      <td>NaN</td>\n",
              "      <td>NaN</td>\n",
              "      <td>NaN</td>\n",
              "      <td>NaN</td>\n",
              "      <td>NaN</td>\n",
              "      <td>NaN</td>\n",
              "      <td>2018.000000</td>\n",
              "      <td>NaN</td>\n",
              "      <td>NaN</td>\n",
              "      <td>NaN</td>\n",
              "      <td>NaN</td>\n",
              "    </tr>\n",
              "    <tr>\n",
              "      <th>max</th>\n",
              "      <td>NaN</td>\n",
              "      <td>NaN</td>\n",
              "      <td>NaN</td>\n",
              "      <td>NaN</td>\n",
              "      <td>NaN</td>\n",
              "      <td>NaN</td>\n",
              "      <td>NaN</td>\n",
              "      <td>2021.000000</td>\n",
              "      <td>NaN</td>\n",
              "      <td>NaN</td>\n",
              "      <td>NaN</td>\n",
              "      <td>NaN</td>\n",
              "    </tr>\n",
              "  </tbody>\n",
              "</table>\n",
              "</div>\n",
              "      <button class=\"colab-df-convert\" onclick=\"convertToInteractive('df-042a16af-e96e-475d-8d26-6dd7f10ed946')\"\n",
              "              title=\"Convert this dataframe to an interactive table.\"\n",
              "              style=\"display:none;\">\n",
              "        \n",
              "  <svg xmlns=\"http://www.w3.org/2000/svg\" height=\"24px\"viewBox=\"0 0 24 24\"\n",
              "       width=\"24px\">\n",
              "    <path d=\"M0 0h24v24H0V0z\" fill=\"none\"/>\n",
              "    <path d=\"M18.56 5.44l.94 2.06.94-2.06 2.06-.94-2.06-.94-.94-2.06-.94 2.06-2.06.94zm-11 1L8.5 8.5l.94-2.06 2.06-.94-2.06-.94L8.5 2.5l-.94 2.06-2.06.94zm10 10l.94 2.06.94-2.06 2.06-.94-2.06-.94-.94-2.06-.94 2.06-2.06.94z\"/><path d=\"M17.41 7.96l-1.37-1.37c-.4-.4-.92-.59-1.43-.59-.52 0-1.04.2-1.43.59L10.3 9.45l-7.72 7.72c-.78.78-.78 2.05 0 2.83L4 21.41c.39.39.9.59 1.41.59.51 0 1.02-.2 1.41-.59l7.78-7.78 2.81-2.81c.8-.78.8-2.07 0-2.86zM5.41 20L4 18.59l7.72-7.72 1.47 1.35L5.41 20z\"/>\n",
              "  </svg>\n",
              "      </button>\n",
              "      \n",
              "  <style>\n",
              "    .colab-df-container {\n",
              "      display:flex;\n",
              "      flex-wrap:wrap;\n",
              "      gap: 12px;\n",
              "    }\n",
              "\n",
              "    .colab-df-convert {\n",
              "      background-color: #E8F0FE;\n",
              "      border: none;\n",
              "      border-radius: 50%;\n",
              "      cursor: pointer;\n",
              "      display: none;\n",
              "      fill: #1967D2;\n",
              "      height: 32px;\n",
              "      padding: 0 0 0 0;\n",
              "      width: 32px;\n",
              "    }\n",
              "\n",
              "    .colab-df-convert:hover {\n",
              "      background-color: #E2EBFA;\n",
              "      box-shadow: 0px 1px 2px rgba(60, 64, 67, 0.3), 0px 1px 3px 1px rgba(60, 64, 67, 0.15);\n",
              "      fill: #174EA6;\n",
              "    }\n",
              "\n",
              "    [theme=dark] .colab-df-convert {\n",
              "      background-color: #3B4455;\n",
              "      fill: #D2E3FC;\n",
              "    }\n",
              "\n",
              "    [theme=dark] .colab-df-convert:hover {\n",
              "      background-color: #434B5C;\n",
              "      box-shadow: 0px 1px 3px 1px rgba(0, 0, 0, 0.15);\n",
              "      filter: drop-shadow(0px 1px 2px rgba(0, 0, 0, 0.3));\n",
              "      fill: #FFFFFF;\n",
              "    }\n",
              "  </style>\n",
              "\n",
              "      <script>\n",
              "        const buttonEl =\n",
              "          document.querySelector('#df-042a16af-e96e-475d-8d26-6dd7f10ed946 button.colab-df-convert');\n",
              "        buttonEl.style.display =\n",
              "          google.colab.kernel.accessAllowed ? 'block' : 'none';\n",
              "\n",
              "        async function convertToInteractive(key) {\n",
              "          const element = document.querySelector('#df-042a16af-e96e-475d-8d26-6dd7f10ed946');\n",
              "          const dataTable =\n",
              "            await google.colab.kernel.invokeFunction('convertToInteractive',\n",
              "                                                     [key], {});\n",
              "          if (!dataTable) return;\n",
              "\n",
              "          const docLinkHtml = 'Like what you see? Visit the ' +\n",
              "            '<a target=\"_blank\" href=https://colab.research.google.com/notebooks/data_table.ipynb>data table notebook</a>'\n",
              "            + ' to learn more about interactive tables.';\n",
              "          element.innerHTML = '';\n",
              "          dataTable['output_type'] = 'display_data';\n",
              "          await google.colab.output.renderOutput(dataTable, element);\n",
              "          const docLink = document.createElement('div');\n",
              "          docLink.innerHTML = docLinkHtml;\n",
              "          element.appendChild(docLink);\n",
              "        }\n",
              "      </script>\n",
              "    </div>\n",
              "  </div>\n",
              "  "
            ]
          },
          "metadata": {},
          "execution_count": 13
        }
      ]
    },
    {
      "cell_type": "markdown",
      "source": [
        "### Variables Description "
      ],
      "metadata": {
        "id": "CBIQvqXx3TS1"
      }
    },
    {
      "cell_type": "markdown",
      "source": [
        "![image.png](data:image/png;base64,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)"
      ],
      "metadata": {
        "id": "lZbdfHAj_ACS"
      }
    },
    {
      "cell_type": "markdown",
      "source": [
        "### Check Unique Values for each variable."
      ],
      "metadata": {
        "id": "lty31GjN3TS2"
      }
    },
    {
      "cell_type": "code",
      "source": [
        "# Check Unique Values for each variable.\n",
        "print(f\"The number of unique values in: \")\n",
        "print(\"-\"*35)\n",
        "for i in df.columns:\n",
        "  print(f\"'{i}' : {df[i].nunique()}\")"
      ],
      "metadata": {
        "colab": {
          "base_uri": "https://localhost:8080/"
        },
        "outputId": "70e5e35a-f7f4-4a70-cb03-2650c04d65f2",
        "id": "s_tVdGEP3TS2"
      },
      "execution_count": 14,
      "outputs": [
        {
          "output_type": "stream",
          "name": "stdout",
          "text": [
            "The number of unique values in: \n",
            "-----------------------------------\n",
            "'show_id' : 7787\n",
            "'type' : 2\n",
            "'title' : 7787\n",
            "'director' : 4049\n",
            "'cast' : 6831\n",
            "'country' : 681\n",
            "'date_added' : 1565\n",
            "'release_year' : 73\n",
            "'rating' : 14\n",
            "'duration' : 216\n",
            "'listed_in' : 492\n",
            "'description' : 7769\n"
          ]
        }
      ]
    },
    {
      "cell_type": "markdown",
      "source": [
        "##***3. Data Wrangling***"
      ],
      "metadata": {
        "id": "HJxQtXf13hvk"
      }
    },
    {
      "cell_type": "markdown",
      "source": [
        "### Data Wrangling Code"
      ],
      "metadata": {
        "id": "vmeRAGTe3hvl"
      }
    },
    {
      "cell_type": "code",
      "source": [
        "#creating copy of dataset\n",
        "netflix=df.copy()"
      ],
      "metadata": {
        "id": "0FXdd8ZPAaN2"
      },
      "execution_count": 15,
      "outputs": []
    },
    {
      "cell_type": "code",
      "source": [
        "# Handling the missing values\n",
        "#netflix.fillna('Unknown',inplace=True)\n",
        "#netflix['rating'] = netflix['rating'].fillna(netflix['rating'].mode()[0])\n"
      ],
      "metadata": {
        "id": "ocx6UuZKBKmC"
      },
      "execution_count": 16,
      "outputs": []
    },
    {
      "cell_type": "code",
      "source": [
        "#creating new dataframe without observations having date_added feature as 'Unknown'\n",
        "#new_df=netflix[netflix['date_added']!='Unknown']"
      ],
      "metadata": {
        "id": "h8TMGPxuOez7"
      },
      "execution_count": 17,
      "outputs": []
    },
    {
      "cell_type": "code",
      "source": [
        "#changing dtype of date_added to datetime\n",
        "#new_df['date_added']=pd.to_datetime(new_df['date_added'])\n"
      ],
      "metadata": {
        "id": "Jrlrdygs_Xv8"
      },
      "execution_count": 18,
      "outputs": []
    },
    {
      "cell_type": "code",
      "source": [
        "#extracting new feature like year and month and date from date_added\n",
        "# new_df['day_added'] = new_df['date_added'].dt.day            \n",
        "# new_df['year_added'] = new_df['date_added'].dt.year          \n",
        "# new_df['month_added'] = new_df['date_added'].dt.month"
      ],
      "metadata": {
        "id": "yFEa_ddkGGrY"
      },
      "execution_count": 19,
      "outputs": []
    },
    {
      "cell_type": "code",
      "source": [
        "#dropping date_added feature as we have extracted new features from it\n",
        "# new_df.drop(['date_added'],axis=1,inplace=True)"
      ],
      "metadata": {
        "id": "sTEa9KSYQIhH"
      },
      "execution_count": 20,
      "outputs": []
    },
    {
      "cell_type": "code",
      "source": [
        "# Choosing the lead cast,director and country to simplify the analysis\n",
        "# new_df['country'] = new_df['country'].apply(lambda x: x.split(',')[0])\n",
        "# new_df['cast'] = new_df['cast'].apply(lambda x: x.split(',')[0])\n",
        "# new_df['director'] = new_df['director'].apply(lambda x: x.split(',')[0])"
      ],
      "metadata": {
        "id": "j_l7bKtPR-MP"
      },
      "execution_count": 21,
      "outputs": []
    },
    {
      "cell_type": "markdown",
      "source": [
        "We have successfully handled all null values from our dataset."
      ],
      "metadata": {
        "id": "pYzJzu2dMeqK"
      }
    },
    {
      "cell_type": "markdown",
      "source": [
        "### What all manipulations have you done and insights you found?"
      ],
      "metadata": {
        "id": "qGNhYkiAMAmV"
      }
    },
    {
      "cell_type": "markdown",
      "source": [
        "1. We have replaced null values from director, cast and country as 'unknown' they are containing high amount of outliers.\n",
        "2. The missing values in rating had imputed with its mode, since this attribute is discrete.\n",
        "3. As there are only 10 records having date_added as missing value. so we have dropped them.\n",
        "4. Changed dtype of date_added with datetime and extracted two new features as date_added_month and date_added_year.\n",
        "5. Splitted duration column and changed its dtype to int."
      ],
      "metadata": {
        "id": "2CvEo1j83hvq"
      }
    },
    {
      "cell_type": "markdown",
      "source": [
        "## ***4. Data Vizualization, Storytelling & Experimenting with charts : Understand the relationships between variables***"
      ],
      "metadata": {
        "id": "GF8Ens_Soomf"
      }
    },
    {
      "cell_type": "markdown",
      "source": [
        "### Univariate Analysis"
      ],
      "metadata": {
        "id": "Y7h2YZpR41bk"
      }
    },
    {
      "cell_type": "markdown",
      "source": [
        "#### Chart - 1 (Distribution of TV Show and movie)*"
      ],
      "metadata": {
        "id": "dkRncfCUmHxh"
      }
    },
    {
      "cell_type": "code",
      "source": [
        "#Setting labels for items in Chart\n",
        "type = netflix[\"type\"].value_counts()\n",
        "\n",
        "#Pie Chart\n",
        "netflix[\"type\"].value_counts().plot.pie(colors= sns.color_palette('pastel'),legend=True,autopct = '%1.1f%%',\n",
        "                                              wedgeprops = {'linewidth': 2,'antialiased': True})\n",
        "#draw circle\n",
        "centre_circle = plt.Circle((0, 0), 0.70, fc='white')\n",
        "fig = plt.gcf()\n",
        "\n",
        "#Adding Circle in Pie chart\n",
        "fig.gca().add_artist(centre_circle)\n",
        "\n",
        "# Adding Title of chart\n",
        "plt.title('Distribution of TV Show and movie')\n",
        "\n",
        "#Displaying Chart\n",
        "plt.show()"
      ],
      "metadata": {
        "colab": {
          "base_uri": "https://localhost:8080/",
          "height": 0
        },
        "id": "juCw4fjQoo0F",
        "outputId": "5625fdb0-8d0e-4a71-9d9f-8d27b30d3048"
      },
      "execution_count": 22,
      "outputs": [
        {
          "output_type": "display_data",
          "data": {
            "text/plain": [
              "<Figure size 432x288 with 1 Axes>"
            ],
            "image/png": "[encoded data removed]"
          },
          "metadata": {}
        }
      ]
    },
    {
      "cell_type": "markdown",
      "source": [
        "##### 1. Why did you pick the specific chart?"
      ],
      "metadata": {
        "id": "B0IZl2yGyvWK"
      }
    },
    {
      "cell_type": "markdown",
      "source": [
        "We have plotted donut chart to visualize the distribution of TV Show and movie.This type of chart can help to compare individual categories or dimensions to the larger whole, just like a pie chart, but with a couple of advantages. Donut charts can make it easier for us to compare individual dimensions."
      ],
      "metadata": {
        "id": "_AJ-umLByvWL"
      }
    },
    {
      "cell_type": "markdown",
      "source": [
        "##### 2. What is/are the insight(s) found from the chart?"
      ],
      "metadata": {
        "id": "uUD2VTOtyvWL"
      }
    },
    {
      "cell_type": "markdown",
      "source": [
        "As we can see number of TV Shows are approx 70% while movies are approx 31%.Netflix stream more TV Shows than movies."
      ],
      "metadata": {
        "id": "6ZC1FGFgyvWM"
      }
    },
    {
      "cell_type": "markdown",
      "source": [
        "#### Chart - 4 (Shows released and added on netflix each year)*"
      ],
      "metadata": {
        "id": "8_Dnd9VcfA-_"
      }
    },
    {
      "cell_type": "code",
      "source": [
        "# Visualizing the year in which the movie / tv show was released\n",
        "plt.figure(figsize=(10,5))\n",
        "sns.histplot(netflix['release_year'])\n",
        "plt.title('distribution by released year')\n",
        "\n"
      ],
      "metadata": {
        "colab": {
          "base_uri": "https://localhost:8080/",
          "height": 0
        },
        "outputId": "e63ebbb4-bdc0-44d4-fd14-dff2fd434fcc",
        "id": "nXakvanAfA_A"
      },
      "execution_count": 23,
      "outputs": [
        {
          "output_type": "execute_result",
          "data": {
            "text/plain": [
              "Text(0.5, 1.0, 'distribution by released year')"
            ]
          },
          "metadata": {},
          "execution_count": 23
        },
        {
          "output_type": "display_data",
          "data": {
            "text/plain": [
              "<Figure size 720x360 with 1 Axes>"
            ],
            "image/png": "[encoded data removed]"
          },
          "metadata": {
            "needs_background": "light"
          }
        }
      ]
    },
    {
      "cell_type": "markdown",
      "source": [
        "##### 1. Why did you pick the specific chart?"
      ],
      "metadata": {
        "id": "Go1c5vCXfA_A"
      }
    },
    {
      "cell_type": "markdown",
      "source": [
        "We have choosed histogram to check in which month and year more shows/movies are released and added on netflix.Histograms have been used to represent distribution of columns having numerical data, histogram is basically used to represent data provided in a form of some groups.It is accurate method for the graphical representation of numerical data distribution.It is a type of bar plot where X-axis represents the bin ranges while Y-axis gives information about frequency."
      ],
      "metadata": {
        "id": "5FE6XRewfA_A"
      }
    },
    {
      "cell_type": "markdown",
      "source": [
        "##### 2. What is/are the insight(s) found from the chart?"
      ],
      "metadata": {
        "id": "TJYdHFx6fA_A"
      }
    },
    {
      "cell_type": "markdown",
      "source": [
        "Netflix has greater number of new movies / TV shows than the old ones.Even we can state from the graph that number of movie's releasing and getting added on Netflix has been increased since 2000 and the graph exceeded in large amount afterwards.Decrease in the number of shows released/added in the year 2020, might be attributed to the covid-19-induced lockdowns, which halted the creation of shows.\n",
        "\n",
        "\n",
        "\n",
        "\n",
        "\n",
        "\n",
        "\n",
        "\n",
        "\n",
        "\n",
        "\n",
        "\n"
      ],
      "metadata": {
        "id": "2zYn78cjfA_B"
      }
    },
    {
      "cell_type": "markdown",
      "source": [
        "#### Chart - 4 (Word cloud for title)*"
      ],
      "metadata": {
        "id": "QiaMkxf1Q-O_"
      }
    },
    {
      "cell_type": "code",
      "source": [
        "# Word cloud for title\n",
        "title_word_cloud = netflix['title']\n",
        "text_title = \" \".join(word for word in title_word_cloud)\n",
        "stopwords = set(STOPWORDS)\n",
        "wordcloud_title = WordCloud(stopwords = stopwords, background_color=\"pink\").generate(text_title)\n",
        "plt.rcParams[\"figure.figsize\"] = (14,6)\n",
        "plt.imshow(wordcloud_title, interpolation = 'bilinear')\n",
        "plt.axis(\"off\")\n",
        "plt.show()\n",
        "\n"
      ],
      "metadata": {
        "colab": {
          "base_uri": "https://localhost:8080/",
          "height": 357
        },
        "outputId": "b9a6e227-943f-407f-c04c-e38be90a36d4",
        "id": "E3YlWNncQ-PA"
      },
      "execution_count": 37,
      "outputs": [
        {
          "output_type": "display_data",
          "data": {
            "text/plain": [
              "<Figure size 1008x432 with 1 Axes>"
            ],
            "image/png": "[encoded data removed]"
          },
          "metadata": {
            "needs_background": "light"
          }
        }
      ]
    },
    {
      "cell_type": "markdown",
      "source": [
        "##### 1. Why did you pick the specific chart?"
      ],
      "metadata": {
        "id": "By5NpOzsQ-PB"
      }
    },
    {
      "cell_type": "markdown",
      "source": [
        "We have choosed histogram to check in which month and year more shows/movies are released and added on netflix.Histograms have been used to represent distribution of columns having numerical data, histogram is basically used to represent data provided in a form of some groups.It is accurate method for the graphical representation of numerical data distribution.It is a type of bar plot where X-axis represents the bin ranges while Y-axis gives information about frequency."
      ],
      "metadata": {
        "id": "e0hMAnitQ-PB"
      }
    },
    {
      "cell_type": "markdown",
      "source": [
        "##### 2. What is/are the insight(s) found from the chart?"
      ],
      "metadata": {
        "id": "Toqw35WyQ-PC"
      }
    },
    {
      "cell_type": "markdown",
      "source": [
        "Netflix has greater number of new movies / TV shows than the old ones.Even we can state from the graph that number of movie's releasing and getting added on Netflix has been increased since 2000 and the graph exceeded in large amount afterwards.Decrease in the number of shows released/added in the year 2020, might be attributed to the covid-19-induced lockdowns, which halted the creation of shows.\n",
        "\n",
        "\n",
        "\n",
        "\n",
        "\n",
        "\n",
        "\n",
        "\n",
        "\n",
        "\n",
        "\n",
        "\n"
      ],
      "metadata": {
        "id": "IiljdvqrQ-PC"
      }
    },
    {
      "cell_type": "markdown",
      "source": [
        "### Bivariate Analysis"
      ],
      "metadata": {
        "id": "Rrb6a60BBCRm"
      }
    },
    {
      "cell_type": "markdown",
      "source": [
        "#### Chart - 3 (Top 10 Ratings given to movies and TV shows)*"
      ],
      "metadata": {
        "id": "e8uh1ODeTJ3l"
      }
    },
    {
      "cell_type": "code",
      "source": [
        "# Top 10 Ratings given to movies and TV shows\n",
        "plt.figure(figsize=(10,5))\n",
        "graph = sns.countplot(x=\"rating\", data=netflix, hue='type', order=netflix['rating'].value_counts().index[0:10])\n",
        "plt.xticks(rotation=90)\n",
        "for p in graph.patches:  #adding value count on the top of bar\n",
        "   graph.annotate(format(p.get_height(), '.0f'), (p.get_x(), p.get_height()))\n",
        "\n",
        "plt.tight_layout()\n",
        "plt.show()"
      ],
      "metadata": {
        "colab": {
          "base_uri": "https://localhost:8080/",
          "height": 369
        },
        "outputId": "84967820-d2bd-4536-d7ac-5a4ceb74b919",
        "id": "4I6sPp_eTJ3n"
      },
      "execution_count": 24,
      "outputs": [
        {
          "output_type": "display_data",
          "data": {
            "text/plain": [
              "<Figure size 720x360 with 1 Axes>"
            ],
            "image/png": "[encoded data removed]"
          },
          "metadata": {
            "needs_background": "light"
          }
        }
      ]
    },
    {
      "cell_type": "markdown",
      "source": [
        "##### 1. Why did you pick the specific chart?"
      ],
      "metadata": {
        "id": "y-DgXsFWTJ3n"
      }
    },
    {
      "cell_type": "markdown",
      "source": [
        "Above independent feature distribution bar charts are useful to compare different categorical or discrete variables.With the help of above charts we can get to know top directors from movies and TV Shows."
      ],
      "metadata": {
        "id": "w6U3-JuiTJ3o"
      }
    },
    {
      "cell_type": "markdown",
      "source": [
        "##### 2. What is/are the insight(s) found from the chart?"
      ],
      "metadata": {
        "id": "iTZzR03wTJ3o"
      }
    },
    {
      "cell_type": "markdown",
      "source": [
        "From above bar plot we got to know that Alastair Fothergill has directed most of the TV Shows while Raul Campos and Jan Suter are most famous in terms of movie directors."
      ],
      "metadata": {
        "id": "9BTmptbYTJ3o"
      }
    },
    {
      "cell_type": "markdown",
      "source": [
        "#### Chart - 2 (Checking top genres)*"
      ],
      "metadata": {
        "id": "tWVyHJxQAO4t"
      }
    },
    {
      "cell_type": "code",
      "source": [
        "#splitting genres and storing into list\n",
        "genre_list=netflix.listed_in.str.split(', ')\n"
      ],
      "metadata": {
        "id": "0XcazH-KAO4t"
      },
      "execution_count": 25,
      "outputs": []
    },
    {
      "cell_type": "code",
      "source": [
        "#creating dict to store all genres\n",
        "genre_dict={}\n",
        "for genre in genre_list:\n",
        "  for x in genre:\n",
        "    if x in genre_dict:\n",
        "      genre_dict[x]=genre_dict[x]+1\n",
        "    else:\n",
        "      genre_dict[x]=1"
      ],
      "metadata": {
        "id": "GcAmR9gnAkNi"
      },
      "execution_count": 26,
      "outputs": []
    },
    {
      "cell_type": "code",
      "source": [
        "# converting the dict to a data frame \n",
        "genre_df=pd.DataFrame.from_dict([genre_dict]).transpose().reset_index().rename(\n",
        "    columns={'index':'genre',0:'Number of Movies/Shows'})"
      ],
      "metadata": {
        "id": "2Ph3PfYOBZOo"
      },
      "execution_count": 27,
      "outputs": []
    },
    {
      "cell_type": "code",
      "source": [
        "#top 10 genres\n",
        "genre_df.sort_values('Number of Movies/Shows', ascending =False)[:10]"
      ],
      "metadata": {
        "colab": {
          "base_uri": "https://localhost:8080/",
          "height": 363
        },
        "id": "oTUCcMzKB9QJ",
        "outputId": "f94f772a-ebc2-4711-e44f-6ea284569dbb"
      },
      "execution_count": 39,
      "outputs": [
        {
          "output_type": "execute_result",
          "data": {
            "text/plain": [
              "                       genre  Number of Movies/Shows\n",
              "4       International Movies                    2437\n",
              "3                     Dramas                    2106\n",
              "15                  Comedies                    1471\n",
              "0     International TV Shows                    1199\n",
              "13             Documentaries                     786\n",
              "6         Action & Adventure                     721\n",
              "1                  TV Dramas                     704\n",
              "7         Independent Movies                     673\n",
              "31  Children & Family Movies                     532\n",
              "19           Romantic Movies                     531"
            ],
            "text/html": [
              "\n",
              "  <div id=\"df-bb39dc6e-dc77-436d-94be-dfb55e14bdd7\">\n",
              "    <div class=\"colab-df-container\">\n",
              "      <div>\n",
              "<style scoped>\n",
              "    .dataframe tbody tr th:only-of-type {\n",
              "        vertical-align: middle;\n",
              "    }\n",
              "\n",
              "    .dataframe tbody tr th {\n",
              "        vertical-align: top;\n",
              "    }\n",
              "\n",
              "    .dataframe thead th {\n",
              "        text-align: right;\n",
              "    }\n",
              "</style>\n",
              "<table border=\"1\" class=\"dataframe\">\n",
              "  <thead>\n",
              "    <tr style=\"text-align: right;\">\n",
              "      <th></th>\n",
              "      <th>genre</th>\n",
              "      <th>Number of Movies/Shows</th>\n",
              "    </tr>\n",
              "  </thead>\n",
              "  <tbody>\n",
              "    <tr>\n",
              "      <th>4</th>\n",
              "      <td>International Movies</td>\n",
              "      <td>2437</td>\n",
              "    </tr>\n",
              "    <tr>\n",
              "      <th>3</th>\n",
              "      <td>Dramas</td>\n",
              "      <td>2106</td>\n",
              "    </tr>\n",
              "    <tr>\n",
              "      <th>15</th>\n",
              "      <td>Comedies</td>\n",
              "      <td>1471</td>\n",
              "    </tr>\n",
              "    <tr>\n",
              "      <th>0</th>\n",
              "      <td>International TV Shows</td>\n",
              "      <td>1199</td>\n",
              "    </tr>\n",
              "    <tr>\n",
              "      <th>13</th>\n",
              "      <td>Documentaries</td>\n",
              "      <td>786</td>\n",
              "    </tr>\n",
              "    <tr>\n",
              "      <th>6</th>\n",
              "      <td>Action &amp; Adventure</td>\n",
              "      <td>721</td>\n",
              "    </tr>\n",
              "    <tr>\n",
              "      <th>1</th>\n",
              "      <td>TV Dramas</td>\n",
              "      <td>704</td>\n",
              "    </tr>\n",
              "    <tr>\n",
              "      <th>7</th>\n",
              "      <td>Independent Movies</td>\n",
              "      <td>673</td>\n",
              "    </tr>\n",
              "    <tr>\n",
              "      <th>31</th>\n",
              "      <td>Children &amp; Family Movies</td>\n",
              "      <td>532</td>\n",
              "    </tr>\n",
              "    <tr>\n",
              "      <th>19</th>\n",
              "      <td>Romantic Movies</td>\n",
              "      <td>531</td>\n",
              "    </tr>\n",
              "  </tbody>\n",
              "</table>\n",
              "</div>\n",
              "      <button class=\"colab-df-convert\" onclick=\"convertToInteractive('df-bb39dc6e-dc77-436d-94be-dfb55e14bdd7')\"\n",
              "              title=\"Convert this dataframe to an interactive table.\"\n",
              "              style=\"display:none;\">\n",
              "        \n",
              "  <svg xmlns=\"http://www.w3.org/2000/svg\" height=\"24px\"viewBox=\"0 0 24 24\"\n",
              "       width=\"24px\">\n",
              "    <path d=\"M0 0h24v24H0V0z\" fill=\"none\"/>\n",
              "    <path d=\"M18.56 5.44l.94 2.06.94-2.06 2.06-.94-2.06-.94-.94-2.06-.94 2.06-2.06.94zm-11 1L8.5 8.5l.94-2.06 2.06-.94-2.06-.94L8.5 2.5l-.94 2.06-2.06.94zm10 10l.94 2.06.94-2.06 2.06-.94-2.06-.94-.94-2.06-.94 2.06-2.06.94z\"/><path d=\"M17.41 7.96l-1.37-1.37c-.4-.4-.92-.59-1.43-.59-.52 0-1.04.2-1.43.59L10.3 9.45l-7.72 7.72c-.78.78-.78 2.05 0 2.83L4 21.41c.39.39.9.59 1.41.59.51 0 1.02-.2 1.41-.59l7.78-7.78 2.81-2.81c.8-.78.8-2.07 0-2.86zM5.41 20L4 18.59l7.72-7.72 1.47 1.35L5.41 20z\"/>\n",
              "  </svg>\n",
              "      </button>\n",
              "      \n",
              "  <style>\n",
              "    .colab-df-container {\n",
              "      display:flex;\n",
              "      flex-wrap:wrap;\n",
              "      gap: 12px;\n",
              "    }\n",
              "\n",
              "    .colab-df-convert {\n",
              "      background-color: #E8F0FE;\n",
              "      border: none;\n",
              "      border-radius: 50%;\n",
              "      cursor: pointer;\n",
              "      display: none;\n",
              "      fill: #1967D2;\n",
              "      height: 32px;\n",
              "      padding: 0 0 0 0;\n",
              "      width: 32px;\n",
              "    }\n",
              "\n",
              "    .colab-df-convert:hover {\n",
              "      background-color: #E2EBFA;\n",
              "      box-shadow: 0px 1px 2px rgba(60, 64, 67, 0.3), 0px 1px 3px 1px rgba(60, 64, 67, 0.15);\n",
              "      fill: #174EA6;\n",
              "    }\n",
              "\n",
              "    [theme=dark] .colab-df-convert {\n",
              "      background-color: #3B4455;\n",
              "      fill: #D2E3FC;\n",
              "    }\n",
              "\n",
              "    [theme=dark] .colab-df-convert:hover {\n",
              "      background-color: #434B5C;\n",
              "      box-shadow: 0px 1px 3px 1px rgba(0, 0, 0, 0.15);\n",
              "      filter: drop-shadow(0px 1px 2px rgba(0, 0, 0, 0.3));\n",
              "      fill: #FFFFFF;\n",
              "    }\n",
              "  </style>\n",
              "\n",
              "      <script>\n",
              "        const buttonEl =\n",
              "          document.querySelector('#df-bb39dc6e-dc77-436d-94be-dfb55e14bdd7 button.colab-df-convert');\n",
              "        buttonEl.style.display =\n",
              "          google.colab.kernel.accessAllowed ? 'block' : 'none';\n",
              "\n",
              "        async function convertToInteractive(key) {\n",
              "          const element = document.querySelector('#df-bb39dc6e-dc77-436d-94be-dfb55e14bdd7');\n",
              "          const dataTable =\n",
              "            await google.colab.kernel.invokeFunction('convertToInteractive',\n",
              "                                                     [key], {});\n",
              "          if (!dataTable) return;\n",
              "\n",
              "          const docLinkHtml = 'Like what you see? Visit the ' +\n",
              "            '<a target=\"_blank\" href=https://colab.research.google.com/notebooks/data_table.ipynb>data table notebook</a>'\n",
              "            + ' to learn more about interactive tables.';\n",
              "          element.innerHTML = '';\n",
              "          dataTable['output_type'] = 'display_data';\n",
              "          await google.colab.output.renderOutput(dataTable, element);\n",
              "          const docLink = document.createElement('div');\n",
              "          docLink.innerHTML = docLinkHtml;\n",
              "          element.appendChild(docLink);\n",
              "        }\n",
              "      </script>\n",
              "    </div>\n",
              "  </div>\n",
              "  "
            ]
          },
          "metadata": {},
          "execution_count": 39
        }
      ]
    },
    {
      "cell_type": "code",
      "source": [
        "# Top 10 genres\n",
        "plt.figure(figsize=(20,7))\n",
        "\n",
        "\n",
        "plots=sns.barplot(x=genre_df['genre'][:10],y=genre_df['Number of Movies/Shows'][:10],edgecolor='black')\n",
        "for bar in plots.patches:\n",
        "    plots.annotate(format(bar.get_height(), '.2f'),\n",
        "                   (bar.get_x() + bar.get_width() / 2,\n",
        "                    bar.get_height()), ha='center', va='center',\n",
        "                   size=15, xytext=(0, 8),\n",
        "                   textcoords='offset points')\n",
        "    plt.title('Top five genres')\n",
        "    "
      ],
      "metadata": {
        "colab": {
          "base_uri": "https://localhost:8080/",
          "height": 432
        },
        "id": "_cxs-XdaEHhV",
        "outputId": "a1e47e74-40a8-414d-e3ad-e35a40ecfa0e"
      },
      "execution_count": 44,
      "outputs": [
        {
          "output_type": "display_data",
          "data": {
            "text/plain": [
              "<Figure size 1440x504 with 1 Axes>"
            ],
            "image/png": "[encoded data removed]"
          },
          "metadata": {
            "needs_background": "light"
          }
        }
      ]
    },
    {
      "cell_type": "markdown",
      "source": [
        "##### 1. Why did you pick the specific chart?"
      ],
      "metadata": {
        "id": "2HsKwilvAO4u"
      }
    },
    {
      "cell_type": "markdown",
      "source": [
        "We used bar plots because they are a useful tool for visualizing and understanding categorical data, and can be an effective way to communicate information to the wide audience."
      ],
      "metadata": {
        "id": "QIbHV2a7AO4u"
      }
    },
    {
      "cell_type": "markdown",
      "source": [
        "##### 2. What is/are the insight(s) found from the chart?"
      ],
      "metadata": {
        "id": "uFph4d0RAO4u"
      }
    },
    {
      "cell_type": "markdown",
      "source": [
        "From above graphs we can infer that 'International Movies' genre is most popular in movies and shows followed by Dramas.Where as Movies or shows with Standup comedy and talks and TV thrillers are least famous.\n",
        "\n",
        "\n",
        "\n",
        "\n",
        "\n",
        "\n",
        "\n",
        "\n",
        "\n",
        "\n",
        "\n",
        "\n"
      ],
      "metadata": {
        "id": "YiEuHhnxAO4u"
      }
    },
    {
      "cell_type": "markdown",
      "source": [
        "##### 3. Will the gained insights help creating a positive business impact? \n",
        "Are there any insights that lead to negative growth? Justify with specific reason."
      ],
      "metadata": {
        "id": "EPDfESJFAO4v"
      }
    },
    {
      "cell_type": "markdown",
      "source": [
        "By looking at above positively impacting features diagnostic or fitness company can provide mrdications or required measures for not to get affected by the CHD."
      ],
      "metadata": {
        "id": "IWdoV1WpAO4v"
      }
    },
    {
      "cell_type": "markdown",
      "source": [
        "#### Chart - 3 (let's check top directors)*"
      ],
      "metadata": {
        "id": "KSlN3yHqYklG"
      }
    },
    {
      "cell_type": "code",
      "source": [
        "# Top directors for TV shows\n",
        "#defing fig size and axis\n",
        "fig,ax = plt.subplots(1,2, figsize=(15,5))\n",
        "\n",
        "# top 10 director who directed TV show\n",
        "show = netflix[netflix['type']=='TV Show']['director'].value_counts()[:10].plot(kind='barh', ax=ax[0])\n",
        "show.set_title('top 10 director who directed TV Show', size=15)\n",
        "\n",
        "# top 10 director who directed movie\n",
        "movie = netflix[netflix['type']=='Movie']['director'].value_counts()[:10].plot(kind='barh', ax=ax[1])\n",
        "movie.set_title('top 10 director who directed Movie', size=15)\n",
        "\n",
        "plt.tight_layout()\n",
        "plt.show()"
      ],
      "metadata": {
        "colab": {
          "base_uri": "https://localhost:8080/",
          "height": 369
        },
        "id": "wPbs9QmyVBNr",
        "outputId": "7c50e817-5933-49cc-c65b-a98054c2dc19"
      },
      "execution_count": 31,
      "outputs": [
        {
          "output_type": "display_data",
          "data": {
            "text/plain": [
              "<Figure size 1080x360 with 2 Axes>"
            ],
            "image/png": "[encoded data removed]"
          },
          "metadata": {
            "needs_background": "light"
          }
        }
      ]
    },
    {
      "cell_type": "markdown",
      "source": [
        "##### 1. Why did you pick the specific chart?"
      ],
      "metadata": {
        "id": "t6dVpIINYklI"
      }
    },
    {
      "cell_type": "markdown",
      "source": [
        "Above independent feature distribution bar charts are useful to compare different categorical or discrete variables.With the help of above charts we can get to know top directors from movies and TV Shows."
      ],
      "metadata": {
        "id": "KQnQK46GnbLi"
      }
    },
    {
      "cell_type": "markdown",
      "source": [
        "##### 2. What is/are the insight(s) found from the chart?"
      ],
      "metadata": {
        "id": "ijmpgYnKYklI"
      }
    },
    {
      "cell_type": "markdown",
      "source": [
        "From above bar plot we got to know that Alastair Fothergill has directed most of the TV Shows while Raul Campos and Jan Suter are most famous in terms of movie directors."
      ],
      "metadata": {
        "id": "PSx9atu2YklI"
      }
    },
    {
      "cell_type": "markdown",
      "source": [
        "#### Chart - 3 (Famous cast from TV shows and movies)*"
      ],
      "metadata": {
        "id": "JBwUmgaeRdNL"
      }
    },
    {
      "cell_type": "code",
      "source": [
        "# Top directors for TV shows\n",
        "#defing fig size and axis\n",
        "fig,ax = plt.subplots(1,2, figsize=(15,5))\n",
        "\n",
        "# top 10 TV shows actor \n",
        "TV_shows = netflix[netflix['type']=='TV Show']['cast'].str.split(', ', expand=True).stack().reset_index(level=1, drop=True).value_counts()[:10].plot(kind='barh', ax=ax[0])\n",
        "TV_shows.set_title('Top 10 actors who appeared in Tv shows', size=15)\n",
        "\n",
        "# top 10 Movie actor \n",
        "movies = netflix[netflix['type']=='Movie']['cast'].str.split(', ', expand=True).stack().reset_index(level=1, drop=True).value_counts()[:10].plot(kind='barh', ax=ax[1])\n",
        "movies.set_title('Top 10 actors who appeared in movie', size=15)\n",
        "\n",
        "plt.tight_layout()\n",
        "plt.show()"
      ],
      "metadata": {
        "colab": {
          "base_uri": "https://localhost:8080/",
          "height": 369
        },
        "outputId": "8de19d66-ab2d-4995-d8ac-66ffa3644ca9",
        "id": "tYqeGjqGRdNM"
      },
      "execution_count": 32,
      "outputs": [
        {
          "output_type": "display_data",
          "data": {
            "text/plain": [
              "<Figure size 1080x360 with 2 Axes>"
            ],
            "image/png": "[encoded data removed]"
          },
          "metadata": {
            "needs_background": "light"
          }
        }
      ]
    },
    {
      "cell_type": "markdown",
      "source": [
        "##### 1. Why did you pick the specific chart?"
      ],
      "metadata": {
        "id": "k0lHaK3PRdNN"
      }
    },
    {
      "cell_type": "markdown",
      "source": [
        "Above independent feature distribution bar charts are useful to compare different categorical or discrete variables.With the help of above charts we can get to know top directors from movies and TV Shows."
      ],
      "metadata": {
        "id": "haTqdEwBRdNN"
      }
    },
    {
      "cell_type": "markdown",
      "source": [
        "##### 2. What is/are the insight(s) found from the chart?"
      ],
      "metadata": {
        "id": "gufetTqGRdNO"
      }
    },
    {
      "cell_type": "markdown",
      "source": [
        "From above bar plot we got to know that Alastair Fothergill has directed most of the TV Shows while Raul Campos and Jan Suter are most famous in terms of movie directors."
      ],
      "metadata": {
        "id": "E64P1piTRdNO"
      }
    },
    {
      "cell_type": "markdown",
      "source": [
        "#### Chart - 6(Top 10 countries with most contents)*"
      ],
      "metadata": {
        "id": "Y9tusX40Ij3n"
      }
    },
    {
      "cell_type": "code",
      "source": [
        "#Analysing top15 countries with most content \n",
        "plt.figure(figsize=(18,5))\n",
        "sns.countplot(x=netflix['country'],order=netflix['country'].value_counts().index[0:10],hue=netflix['type'])\n",
        "plt.xticks(rotation=50)\n",
        "plt.title('Top 10 countries with most contents', fontsize=15, fontweight='bold')\n",
        "plt.show()"
      ],
      "metadata": {
        "colab": {
          "base_uri": "https://localhost:8080/",
          "height": 0
        },
        "id": "W7xz0Ks2fRX6",
        "outputId": "a3ca5ecd-bc17-4adc-c5c8-53cc810322de"
      },
      "execution_count": 33,
      "outputs": [
        {
          "output_type": "display_data",
          "data": {
            "text/plain": [
              "<Figure size 1296x360 with 1 Axes>"
            ],
            "image/png": "[encoded data removed]"
          },
          "metadata": {
            "needs_background": "light"
          }
        }
      ]
    },
    {
      "cell_type": "markdown",
      "source": [
        "##### 1. Why did you pick the specific chart?"
      ],
      "metadata": {
        "id": "gzD_nyYbIj3o"
      }
    },
    {
      "cell_type": "markdown",
      "source": [
        "We have plotted above plot to check which country is top content producer."
      ],
      "metadata": {
        "id": "mJw2puV7Ij3o"
      }
    },
    {
      "cell_type": "markdown",
      "source": [
        "##### 2. What is/are the insight(s) found from the chart?"
      ],
      "metadata": {
        "id": "PGYdbY-XIj3o"
      }
    },
    {
      "cell_type": "markdown",
      "source": [
        "We can infer that US and India produces highest amount of content which is added on netflix.\n"
      ],
      "metadata": {
        "id": "ee-7l99HIj3o"
      }
    },
    {
      "cell_type": "markdown",
      "source": [
        "##### 3. Will the gained insights help creating a positive business impact? \n",
        "Are there any insights that lead to negative growth? Justify with specific reason."
      ],
      "metadata": {
        "id": "J0BYCvTRIj3o"
      }
    },
    {
      "cell_type": "markdown",
      "source": [
        "As we can see from above graph that there is slight difference of cholestrol levels looking at CHD patients and normal resident. Still to avoid a risk dignostic or fitness companines can provide medications or respective measures to reduce cholestrol."
      ],
      "metadata": {
        "id": "XX1VeLkYIj3o"
      }
    },
    {
      "cell_type": "markdown",
      "source": [
        "#### Chart - 6(Checking duration of movies and TV shows)*"
      ],
      "metadata": {
        "id": "vNBPgvUfWnMx"
      }
    },
    {
      "cell_type": "code",
      "source": [
        "netflix['duration'] = netflix['duration'].apply(lambda x: x.split(' ')[0])"
      ],
      "metadata": {
        "id": "RrCKYKL4WnMx"
      },
      "execution_count": 34,
      "outputs": []
    },
    {
      "cell_type": "code",
      "source": [
        "# Seasons in each TV show\n",
        "plt.figure(figsize=(10,7))\n",
        "\n",
        "p = sns.countplot(x=netflix.duration[netflix['type'] == 'TV Show'],data=netflix[:10])\n",
        "plt.title('Number of seasons per TV show distribution')\n",
        "\n",
        "for i in p.patches:\n",
        "  p.annotate(format(i.get_height(), '.0f'), (i.get_x() + i.get_width() / 2., i.get_height()), ha = 'center', va = 'center', xytext = (0, 10), textcoords = 'offset points')\n",
        "\n"
      ],
      "metadata": {
        "colab": {
          "base_uri": "https://localhost:8080/",
          "height": 458
        },
        "id": "BXQ6aOPEX65Y",
        "outputId": "6c2dee0a-ef37-45d4-8585-65ad5b0f7750"
      },
      "execution_count": 35,
      "outputs": [
        {
          "output_type": "display_data",
          "data": {
            "text/plain": [
              "<Figure size 720x504 with 1 Axes>"
            ],
            "image/png": "[encoded data removed]"
          },
          "metadata": {
            "needs_background": "light"
          }
        }
      ]
    },
    {
      "cell_type": "code",
      "source": [
        "# Length distribution of movies\n",
        "movie_df = netflix[netflix['type']=='Movie']\n",
        "\n",
        "plt.figure(figsize=(14, 7))\n",
        "\n",
        "sns.distplot(movie_df['duration'], bins=30,color='Blue').set(ylabel=None)\n",
        "\n",
        "plt.title('Length distribution of movies', fontsize=16,fontweight=\"bold\")\n",
        "plt.xlabel('Duration', fontsize=14)\n",
        "plt.show()"
      ],
      "metadata": {
        "colab": {
          "base_uri": "https://localhost:8080/",
          "height": 464
        },
        "id": "vdm4D5n6aVoE",
        "outputId": "acde7bda-f8e7-4a76-cd39-afe772f77afb"
      },
      "execution_count": 36,
      "outputs": [
        {
          "output_type": "display_data",
          "data": {
            "text/plain": [
              "<Figure size 1008x504 with 1 Axes>"
            ],
            "image/png": "[encoded data removed]"
          },
          "metadata": {
            "needs_background": "light"
          }
        }
      ]
    },
    {
      "cell_type": "markdown",
      "source": [
        "#### Chart - 6(Monthwise content addition)*"
      ],
      "metadata": {
        "id": "ovDLlGyYTCNC"
      }
    },
    {
      "cell_type": "code",
      "source": [
        "#Plotting a countplot for getting better insights from monthwise addition\n",
        "plt.figure(figsize=(26,7))\n",
        "\n",
        "plt.subplot(2,2,1)\n",
        "sns.countplot(x=netflix['date_added'].dt.month,hue='type',data=netflix)\n",
        "plt.title(\"Monthwise content addition\")\n",
        "\n",
        "plt.subplot(2,2,2)\n",
        "sns.countplot(x=netflix['date_added'].dt.year,hue='type',data=netflix)\n",
        "plt.title(\"Yearwise content addition\")\n",
        "\n",
        "plt.subplot(2,2,3)\n",
        "sns.countplot(x=netflix['date_added'].dt.day,hue='type',data=netflix)\n",
        "plt.title(\"daywise content addition\")"
      ],
      "metadata": {
        "colab": {
          "base_uri": "https://localhost:8080/",
          "height": 358
        },
        "id": "mGoAhj4rTkBB",
        "outputId": "88b7c731-eae0-49af-c402-27f8ba00ddd7"
      },
      "execution_count": 62,
      "outputs": [
        {
          "output_type": "execute_result",
          "data": {
            "text/plain": [
              "Text(0.5, 1.0, 'daywise content addition')"
            ]
          },
          "metadata": {},
          "execution_count": 62
        },
        {
          "output_type": "display_data",
          "data": {
            "text/plain": [
              "<Figure size 1872x504 with 3 Axes>"
            ],
            "image/png": "[encoded data removed]"
          },
          "metadata": {
            "needs_background": "light"
          }
        }
      ]
    },
    {
      "cell_type": "markdown",
      "source": [
        "##### 1. Why did you pick the specific chart?"
      ],
      "metadata": {
        "id": "2xt3RF4DTCND"
      }
    },
    {
      "cell_type": "markdown",
      "source": [
        "We have plotted above plot to check which country is top content producer."
      ],
      "metadata": {
        "id": "fz35KSe4TCNE"
      }
    },
    {
      "cell_type": "markdown",
      "source": [
        "##### 2. What is/are the insight(s) found from the chart?"
      ],
      "metadata": {
        "id": "g3b-dqvUTCNE"
      }
    },
    {
      "cell_type": "markdown",
      "source": [
        "We can infer that US and India produces highest amount of content which is added on netflix.\n"
      ],
      "metadata": {
        "id": "N2XBHWIsTCNE"
      }
    },
    {
      "cell_type": "markdown",
      "source": [
        "##### 3. Will the gained insights help creating a positive business impact? \n",
        "Are there any insights that lead to negative growth? Justify with specific reason."
      ],
      "metadata": {
        "id": "I05oT10aTCNE"
      }
    },
    {
      "cell_type": "markdown",
      "source": [
        "As we can see from above graph that there is slight difference of cholestrol levels looking at CHD patients and normal resident. Still to avoid a risk dignostic or fitness companines can provide medications or respective measures to reduce cholestrol."
      ],
      "metadata": {
        "id": "piCISKuKTCNF"
      }
    },
    {
      "cell_type": "markdown",
      "source": [
        "### Multivariate Analysis"
      ],
      "metadata": {
        "id": "DOxKjzD4DCyE"
      }
    },
    {
      "cell_type": "markdown",
      "source": [
        "#### Chart - 6 (Correlation Heatmap)"
      ],
      "metadata": {
        "id": "NC_X3p0fY2L0"
      }
    },
    {
      "cell_type": "code",
      "source": [
        "# Correlation Heatmap visualization code\n",
        "plt.figure(figsize=(15,10))\n",
        "sns.heatmap(netflix.corr(), annot=True, cmap=sns.color_palette(\"Set1\"))"
      ],
      "metadata": {
        "id": "xyC9zolEZNRQ"
      },
      "execution_count": null,
      "outputs": []
    },
    {
      "cell_type": "markdown",
      "source": [
        "##### 1. Why did you pick the specific chart?"
      ],
      "metadata": {
        "id": "UV0SzAkaZNRQ"
      }
    },
    {
      "cell_type": "markdown",
      "source": [
        "Correlations are best represented  using heat maps. Heat Maps is used to better visualize the volume of locations/events within a dataset and assist in directing viewers towards areas on data visualizations that matter most."
      ],
      "metadata": {
        "id": "DVPuT8LYZNRQ"
      }
    },
    {
      "cell_type": "markdown",
      "source": [
        "##### 2. What is/are the insight(s) found from the chart?"
      ],
      "metadata": {
        "id": "YPEH6qLeZNRQ"
      }
    },
    {
      "cell_type": "markdown",
      "source": [
        "We can infer from above graph that release_year and date added year are highly correlated with each other.\n",
        "\n",
        "\n",
        "\n",
        "\n"
      ],
      "metadata": {
        "id": "bfSqtnDqZNRR"
      }
    },
    {
      "cell_type": "markdown",
      "source": [
        "#### Chart - 15 - (Pair Plot)"
      ],
      "metadata": {
        "id": "q29F0dvdveiT"
      }
    },
    {
      "cell_type": "code",
      "source": [
        "continous_variable=['date_added_Month','date_added_Year','release_year','duration']"
      ],
      "metadata": {
        "id": "bjiHyVbKvgMF"
      },
      "execution_count": null,
      "outputs": []
    },
    {
      "cell_type": "code",
      "source": [
        "# Pair Plot visualization code\n",
        "sns.pairplot(netflix[continous_variable])"
      ],
      "metadata": {
        "id": "o58-TEIhveiU"
      },
      "execution_count": null,
      "outputs": []
    },
    {
      "cell_type": "markdown",
      "source": [
        "##### 1. Why did you pick the specific chart?"
      ],
      "metadata": {
        "id": "EXh0U9oCveiU"
      }
    },
    {
      "cell_type": "markdown",
      "source": [
        "Pair plot is used to understand the best set of features to explain a relationship between two variables or to form the most separated clusters."
      ],
      "metadata": {
        "id": "eMmPjTByveiU"
      }
    },
    {
      "cell_type": "markdown",
      "source": [
        "##### 2. What is/are the insight(s) found from the chart?"
      ],
      "metadata": {
        "id": "22aHeOlLveiV"
      }
    },
    {
      "cell_type": "markdown",
      "source": [
        "From the above chart we can infer that more movies and shows are addded from 2016 just after they release and duration of movies is mostly 100 mins."
      ],
      "metadata": {
        "id": "uPQ8RGwHveiV"
      }
    },
    {
      "cell_type": "markdown",
      "source": [
        "## ***5. Hypothesis Testing***"
      ],
      "metadata": {
        "id": "g-ATYxFrGrvw"
      }
    },
    {
      "cell_type": "markdown",
      "source": [
        "### Based on your chart experiments, define three hypothetical statements from the dataset. In the next three questions, perform hypothesis testing to obtain final conclusion about the statements through your code and statistical testing."
      ],
      "metadata": {
        "id": "Yfr_Vlr8HBkt"
      }
    },
    {
      "cell_type": "markdown",
      "source": [
        "### Hypothetical Statement - 1"
      ],
      "metadata": {
        "id": "8yEUt7NnHlrM"
      }
    },
    {
      "cell_type": "markdown",
      "source": [
        "#### 1. State Your research hypothesis as a null hypothesis and alternate hypothesis."
      ],
      "metadata": {
        "id": "tEA2Xm5dHt1r"
      }
    },
    {
      "cell_type": "markdown",
      "source": [
        "Answer Here\n",
        "\n",
        "*   Null Hypothesis(H0) - Data set does not have any outliers.\n",
        "*   Alternative Hypothesis(H1) - Dataset has outliers.\n"
      ],
      "metadata": {
        "id": "HI9ZP0laH0D-"
      }
    },
    {
      "cell_type": "markdown",
      "source": [
        "#### 2. Perform an appropriate statistical test."
      ],
      "metadata": {
        "id": "I79__PHVH19G"
      }
    },
    {
      "cell_type": "code",
      "source": [
        "# outliers check\n",
        "plt.figure(figsize=(18,8),dpi=150)\n",
        "sns.boxplot(data = df)\n",
        "plt.xticks(rotation=90)"
      ],
      "metadata": {
        "id": "oZrfquKtyian"
      },
      "execution_count": null,
      "outputs": []
    },
    {
      "cell_type": "markdown",
      "source": [
        "##### Which statistical test have you done to obtain P-Value?"
      ],
      "metadata": {
        "id": "Ou-I18pAyIpj"
      }
    },
    {
      "cell_type": "markdown",
      "source": [
        "We have used boxplots for the hypothesis testing, as we are determining the presence of outliers."
      ],
      "metadata": {
        "id": "s2U0kk00ygSB"
      }
    },
    {
      "cell_type": "markdown",
      "source": [
        "##### Why did you choose the specific statistical test?"
      ],
      "metadata": {
        "id": "fF3858GYyt-u"
      }
    },
    {
      "cell_type": "markdown",
      "source": [
        "Boxplots display a 5 number summary of data, this summary is first quartile, mean, third quartile, minimum, maximum, and the values beyond min and max are the outliers. and in the above test we can clearly see that we  have to reject our null hypothesis as our dataset has a lot of outliers."
      ],
      "metadata": {
        "id": "HO4K0gP5y3B4"
      }
    },
    {
      "cell_type": "markdown",
      "source": [
        "### Hypothetical Statement - 2"
      ],
      "metadata": {
        "id": "4_0_7-oCpUZd"
      }
    },
    {
      "cell_type": "markdown",
      "source": [
        "#### 1. State Your research hypothesis as a null hypothesis and alternate hypothesis."
      ],
      "metadata": {
        "id": "hwyV_J3ipUZe"
      }
    },
    {
      "cell_type": "markdown",
      "source": [
        "Answer Here:\n",
        "\n",
        "*   Null Hypothesis(H0) - Increasing age is an important factor that leads to cardiovascular diseases.\n",
        "*   Alternative Hypothesis(H1) - Age is not related with cardiovascular risks."
      ],
      "metadata": {
        "id": "FnpLGJ-4pUZe"
      }
    },
    {
      "cell_type": "markdown",
      "source": [
        "#### 2. Perform an appropriate statistical test."
      ],
      "metadata": {
        "id": "3yB-zSqbpUZe"
      }
    },
    {
      "cell_type": "code",
      "source": [
        "# Perform Statistical Test to obtain P-Value\n",
        "\n",
        "from scipy.stats import chi2_contingency\n",
        "  \n",
        "# defining the table\n",
        "data = [df['age'], df['TenYearCHD']]\n",
        "stat, p, dof, expected = chi2_contingency(data)\n",
        "  \n",
        "# interpret p-value\n",
        "alpha = 0.05\n",
        "print(\"p value is \" + str(p))\n",
        "if p <= alpha:\n",
        "    print('Reject null hypothesis')\n",
        "else:\n",
        "    print('Accept null hypothesis')"
      ],
      "metadata": {
        "id": "sWxdNTXNpUZe"
      },
      "execution_count": null,
      "outputs": []
    },
    {
      "cell_type": "markdown",
      "source": [
        "##### Which statistical test have you done to obtain P-Value?"
      ],
      "metadata": {
        "id": "dEUvejAfpUZe"
      }
    },
    {
      "cell_type": "markdown",
      "source": [
        "Chi Square Test"
      ],
      "metadata": {
        "id": "oLDrPz7HpUZf"
      }
    },
    {
      "cell_type": "markdown",
      "source": [
        "##### Why did you choose the specific statistical test?"
      ],
      "metadata": {
        "id": "Fd15vwWVpUZf"
      }
    },
    {
      "cell_type": "markdown",
      "source": [
        "We have used chi-square test in order to determine whether there is a significant association between the two variables. In our case 'age' and 'TenyearCHD' are the two variables. test shows that age and risk have a significant impact on each other,therefore we failed to reject null hypothesis."
      ],
      "metadata": {
        "id": "4xOGYyiBpUZf"
      }
    },
    {
      "cell_type": "markdown",
      "source": [
        "### Hypothetical Statement - 3"
      ],
      "metadata": {
        "id": "bn_IUdTipZyH"
      }
    },
    {
      "cell_type": "markdown",
      "source": [
        "#### 1. State Your research hypothesis as a null hypothesis and alternate hypothesis."
      ],
      "metadata": {
        "id": "49K5P_iCpZyH"
      }
    },
    {
      "cell_type": "markdown",
      "source": [
        "*   Null Hypothesis(H0) - mean of total cholestrol = 237\n",
        "*   Alternative Hypothesis(H1) - mean of total cholestrol != 237"
      ],
      "metadata": {
        "id": "7gWI5rT9pZyH"
      }
    },
    {
      "cell_type": "markdown",
      "source": [
        "#### 2. Perform an appropriate statistical test."
      ],
      "metadata": {
        "id": "Nff-vKELpZyI"
      }
    },
    {
      "cell_type": "code",
      "source": [
        "# Perform Statistical Test to obtain P-Value\n",
        "from scipy import stats\n",
        "from statsmodels.stats import weightstats as stests\n",
        "ztest ,pval = stests.ztest(df['totChol'], x2=None, value=237)\n",
        "print(float(pval))\n",
        "if pval<0.05:\n",
        "    print(\"reject null hypothesis\")\n",
        "else:\n",
        "    print(\"failed to reject null hypothesis\")"
      ],
      "metadata": {
        "id": "s6AnJQjtpZyI"
      },
      "execution_count": null,
      "outputs": []
    },
    {
      "cell_type": "markdown",
      "source": [
        "##### Which statistical test have you done to obtain P-Value?"
      ],
      "metadata": {
        "id": "kLW572S8pZyI"
      }
    },
    {
      "cell_type": "markdown",
      "source": [
        "Z-Test"
      ],
      "metadata": {
        "id": "ytWJ8v15pZyI"
      }
    },
    {
      "cell_type": "markdown",
      "source": [
        "##### Why did you choose the specific statistical test?"
      ],
      "metadata": {
        "id": "dWbDXHzopZyI"
      }
    },
    {
      "cell_type": "markdown",
      "source": [
        "Z-Test is used usually when data points are independent of each other and data is normally distributed.\n",
        "Failed to reject null hypothesis as the condition stands true."
      ],
      "metadata": {
        "id": "M99G98V6pZyI"
      }
    },
    {
      "cell_type": "markdown",
      "metadata": {
        "id": "m3IvJ5RWpSv9"
      },
      "source": [
        "## ***6. Feature Engineering & Data Pre-processing***"
      ]
    },
    {
      "cell_type": "markdown",
      "metadata": {
        "id": "zsCqYLajpSv-"
      },
      "source": [
        "### 1. Handling Missing Values"
      ]
    },
    {
      "cell_type": "code",
      "source": [
        "#creating copy of dataset\n",
        "netflix=df.copy()"
      ],
      "metadata": {
        "id": "Wnmpzubevlrl"
      },
      "execution_count": 25,
      "outputs": []
    },
    {
      "cell_type": "code",
      "source": [
        "# Handling the missing values\n",
        "netflix.fillna('Unknown',inplace=True)"
      ],
      "metadata": {
        "id": "vrz_pZAhvq_o"
      },
      "execution_count": 26,
      "outputs": []
    },
    {
      "cell_type": "code",
      "source": [
        "#recheking null values after dealing\n",
        "netflix.isna().sum()"
      ],
      "metadata": {
        "colab": {
          "base_uri": "https://localhost:8080/"
        },
        "id": "ozpXHxUb5-5u",
        "outputId": "6e49c7e6-b862-49b1-84b4-f76b35fc3c94"
      },
      "execution_count": 30,
      "outputs": [
        {
          "output_type": "execute_result",
          "data": {
            "text/plain": [
              "show_id         0\n",
              "type            0\n",
              "title           0\n",
              "director        0\n",
              "cast            0\n",
              "country         0\n",
              "date_added      0\n",
              "release_year    0\n",
              "rating          0\n",
              "duration        0\n",
              "listed_in       0\n",
              "description     0\n",
              "dtype: int64"
            ]
          },
          "metadata": {},
          "execution_count": 30
        }
      ]
    },
    {
      "cell_type": "markdown",
      "metadata": {
        "id": "YLYFaXx8pSv_"
      },
      "source": [
        "We have successfully handled all null values from our dataset."
      ]
    },
    {
      "cell_type": "markdown",
      "source": [
        "#### What all missing value imputation techniques have you used and why did you use those techniques?"
      ],
      "metadata": {
        "id": "DVZQQlKU6Q5e"
      }
    },
    {
      "cell_type": "markdown",
      "source": [],
      "metadata": {
        "id": "v9EznaOi6U1J"
      }
    },
    {
      "cell_type": "markdown",
      "metadata": {
        "id": "idALKLXCpSv_"
      },
      "source": [
        "### 2. Handling Outliers"
      ]
    },
    {
      "cell_type": "code",
      "execution_count": 31,
      "metadata": {
        "id": "cpa6hwokTwAA"
      },
      "outputs": [],
      "source": [
        "# defining the code for outlier detection and percentage using IQR.\n",
        "def detect_outliers(data):\n",
        "    outliers = []\n",
        "    data = sorted(data)\n",
        "    q1 = np.percentile(data, 25)\n",
        "    q2 = np.percentile(data, 50)\n",
        "    q3 = np.percentile(data, 75)\n",
        "    print(f\"q1:{q1}, q2:{q2}, q3:{q3}\")\n",
        "\n",
        "    IQR = q3-q1\n",
        "    lwr_bound = q1-(1.5*IQR)\n",
        "    upr_bound = q3+(1.5*IQR)\n",
        "    print(f\"Lower bound: {lwr_bound}, Upper bound: {upr_bound}, IQR: {IQR}\")\n",
        "\n",
        "    for i in data: \n",
        "        if (i<lwr_bound or i>upr_bound):\n",
        "            outliers.append(i)\n",
        "    len_outliers= len(outliers)\n",
        "    print(f\"Total number of outliers are: {len_outliers}\")\n",
        "\n",
        "    print(f\"Total percentage of outlier is: {round(len_outliers*100/len(data),2)} %\")"
      ]
    },
    {
      "cell_type": "code",
      "execution_count": 34,
      "metadata": {
        "colab": {
          "base_uri": "https://localhost:8080/",
          "height": 297
        },
        "id": "85Ya5nbUiP5C",
        "outputId": "88b998c8-0798-4281-8dda-1b62d494ca9f"
      },
      "outputs": [
        {
          "output_type": "execute_result",
          "data": {
            "text/plain": [
              "<AxesSubplot:xlabel='release_year'>"
            ]
          },
          "metadata": {},
          "execution_count": 34
        },
        {
          "output_type": "display_data",
          "data": {
            "text/plain": [
              "<Figure size 432x288 with 1 Axes>"
            ],
            "image/png": "[encoded data removed]"
          },
          "metadata": {
            "needs_background": "light"
          }
        }
      ],
      "source": [
        "# Plotting box plot for release_year\n",
        "sns.boxplot(netflix.release_year)"
      ]
    },
    {
      "cell_type": "markdown",
      "metadata": {
        "id": "My0CQfKsnVze"
      },
      "source": [
        "It is clear that we have outliers in most of the continous features but still we don't know the percentage of outliers in each of the feature. So, let's create a function that takes input as dataframe and list of continous feature and return the lower limit, upper limit,IQR, total outliers and percentage of outliers present in each continous feature."
      ]
    },
    {
      "cell_type": "code",
      "execution_count": 36,
      "metadata": {
        "colab": {
          "base_uri": "https://localhost:8080/"
        },
        "id": "YSHbuB9PyznL",
        "outputId": "5fa612fb-67f3-4ef7-92f4-e13f60af486a"
      },
      "outputs": [
        {
          "output_type": "stream",
          "name": "stdout",
          "text": [
            "q1:2013.0, q2:2017.0, q3:2018.0\n",
            "Lower bound: 2005.5, Upper bound: 2025.5, IQR: 5.0\n",
            "Total number of outliers are: 745\n",
            "Total percentage of outlier is: 9.57 %\n"
          ]
        }
      ],
      "source": [
        "# Determining IQR, Lower and Upper bound and number out outliers present in each of the continous numerical feature\n",
        "detect_outliers(netflix['release_year'])"
      ]
    },
    {
      "cell_type": "markdown",
      "metadata": {
        "id": "wBdrUh81pSwA"
      },
      "source": [
        "##### What all outlier treatment techniques have you used and why did you use those techniques?"
      ]
    },
    {
      "cell_type": "markdown",
      "metadata": {
        "id": "6Nrga9v7pSwB"
      },
      "source": []
    },
    {
      "cell_type": "markdown",
      "metadata": {
        "id": "gS_m4jaCpSwB"
      },
      "source": [
        "### 3. Categorical Encoding"
      ]
    },
    {
      "cell_type": "code",
      "execution_count": null,
      "metadata": {
        "id": "FYQnkEFQnOep"
      },
      "outputs": [],
      "source": [
        "# Checking the object dtype variable\n",
        "df.info()"
      ]
    },
    {
      "cell_type": "markdown",
      "metadata": {
        "id": "7gwjrn34nWfR"
      },
      "source": [
        "Since, we have only two object dtype variable (sex and is_smoking) with two categories Male and Female, No and Yes. We can easily encode these categorical variable from BINARY LABEL ENCODING (0,1) and change the dtype from object to int."
      ]
    },
    {
      "cell_type": "code",
      "execution_count": null,
      "metadata": {
        "id": "Q6R_C6-4pSwB"
      },
      "outputs": [],
      "source": [
        "# Encode your categorical columns\n",
        "df['sex'].replace({'M':0,'F':1},inplace=True)\n",
        "df['is_smoking'].replace({'NO':0,'YES':1},inplace=True)"
      ]
    },
    {
      "cell_type": "code",
      "execution_count": null,
      "metadata": {
        "id": "HjgfKxlmpIpz"
      },
      "outputs": [],
      "source": [
        "# Rechecking the info of dataset\n",
        "df.info()"
      ]
    },
    {
      "cell_type": "markdown",
      "metadata": {
        "id": "5k-toal7pSwB"
      },
      "source": [
        "#### What all categorical encoding techniques have you used & why did you use those techniques?"
      ]
    },
    {
      "cell_type": "markdown",
      "metadata": {
        "id": "lgyH6yRfpSwB"
      },
      "source": [
        "We are having two categorical features viz. sex and is_smoking having dtype as object.As there are only two possible values of a categorical features we have used **label encoding** technique to converting the labels into a numeric form so as to convert them into the machine-readable form.\n",
        "\n"
      ]
    },
    {
      "cell_type": "markdown",
      "metadata": {
        "id": "bnbt7EOYpSwB"
      },
      "source": [
        "### 4. Textual Data Preprocessing \n",
        "(It's mandatory for textual dataset i.e., NLP, Sentiment Analysis, Text Clustering etc.)"
      ]
    },
    {
      "cell_type": "markdown",
      "source": [
        "**Modeling Approach**\n",
        "1. Select the attributes based on which you want to cluster the shows\n",
        "2. Text preprocessing: Remove all stopwords and punctuation marks, convert all textual data to lowercase.\n",
        "3. Stemming to generate a meaningful word out of corpus of words.\n",
        "4. Tokenization of corpus and Word vectorization\n",
        "5. Dimensionality reduction\n",
        "6. Use different algorithms to cluster the movies, obtain the optimal number of clusters using different techniques\n",
        "7. Build optimal number of clusters and visualize the contents of each cluster using wordclouds."
      ],
      "metadata": {
        "id": "33CCT45tAO01"
      }
    },
    {
      "cell_type": "markdown",
      "source": [
        "\n",
        "#### **4.1. Clustering Attributes**\n",
        "We will cluster the movie/shows on Netflix based on the following attributes:\n",
        "\n",
        "- Director\n",
        "- Cast\n",
        "- Country\n",
        "- Rating\n",
        "- Listed in (genres)\n",
        "- Description"
      ],
      "metadata": {
        "id": "R11nKGImAb-f"
      }
    },
    {
      "cell_type": "markdown",
      "metadata": {
        "id": "vvuwGep-pSwC"
      },
      "source": [
        "#### 4.2. Expand Contraction"
      ]
    },
    {
      "cell_type": "code",
      "execution_count": 37,
      "metadata": {
        "id": "9hnXbnP-pSwC"
      },
      "outputs": [],
      "source": [
        "# Expand Contraction\n",
        "# creating tags column using all text column which one is used for model building purpose.\n",
        "netflix['tags'] = netflix['description'] + netflix['listed_in'] + netflix['rating'] + netflix['cast'] + netflix['country'] + netflix['director']"
      ]
    },
    {
      "cell_type": "code",
      "source": [
        "netflix.tags[0]"
      ],
      "metadata": {
        "colab": {
          "base_uri": "https://localhost:8080/",
          "height": 70
        },
        "id": "KDKrsS7ZA3UK",
        "outputId": "34e867c0-8543-4d97-a790-9197dca963de"
      },
      "execution_count": 38,
      "outputs": [
        {
          "output_type": "execute_result",
          "data": {
            "text/plain": [
              "'In a future where the elite inhabit an island paradise far from the crowded slums, you get one chance to join the 3% saved from squalor.International TV Shows, TV Dramas, TV Sci-Fi & FantasyTV-MAJoão Miguel, Bianca Comparato, Michel Gomes, Rodolfo Valente, Vaneza Oliveira, Rafael Lozano, Viviane Porto, Mel Fronckowiak, Sergio Mamberti, Zezé Motta, Celso FrateschiBrazilUnknown'"
            ],
            "application/vnd.google.colaboratory.intrinsic+json": {
              "type": "string"
            }
          },
          "metadata": {},
          "execution_count": 38
        }
      ]
    },
    {
      "cell_type": "markdown",
      "metadata": {
        "id": "QPLKL2tKpSwC"
      },
      "source": [
        "#### 4.3. Removing Punctuations"
      ]
    },
    {
      "cell_type": "code",
      "execution_count": 43,
      "metadata": {
        "id": "Sj1jURZVpSwC"
      },
      "outputs": [],
      "source": [
        "# Remove Punctuations\n",
        "# function to remove punctuations\n",
        "\n",
        "def remove_punctuation(text):\n",
        "    '''a function for removing punctuation'''\n",
        "    import string\n",
        "    # replacing the punctuations with no space, which in effect deletes the punctuation marks.\n",
        "    translator = str.maketrans('', '', string.punctuation)\n",
        "    # return the text stripped of punctuation marks\n",
        "    return text.translate(translator)"
      ]
    },
    {
      "cell_type": "code",
      "source": [
        "# applying remove_punctuation function\n",
        "netflix['tags'] = netflix['tags'].apply(remove_punctuation)"
      ],
      "metadata": {
        "id": "OijhNX9nCpMv"
      },
      "execution_count": 44,
      "outputs": []
    },
    {
      "cell_type": "code",
      "source": [
        "netflix['tags'][0]"
      ],
      "metadata": {
        "colab": {
          "base_uri": "https://localhost:8080/",
          "height": 70
        },
        "id": "DyjWyzstCzGX",
        "outputId": "371f6fc5-449d-4c6e-8bae-6052be38c02d"
      },
      "execution_count": 45,
      "outputs": [
        {
          "output_type": "execute_result",
          "data": {
            "text/plain": [
              "'future elite inhabit island paradise far crowded slums get one chance join 3 saved squalorinternational tv shows tv dramas tv scifi  fantasytvmajoão miguel bianca comparato michel gomes rodolfo valente vaneza oliveira rafael lozano viviane porto mel fronckowiak sergio mamberti zezé motta celso frateschibrazilunknown'"
            ],
            "application/vnd.google.colaboratory.intrinsic+json": {
              "type": "string"
            }
          },
          "metadata": {},
          "execution_count": 45
        }
      ]
    },
    {
      "cell_type": "markdown",
      "metadata": {
        "id": "X37OX-w8pSwD"
      },
      "source": [
        "#### 4.4. Removing Stopwords & Removing White spaces"
      ]
    },
    {
      "cell_type": "code",
      "execution_count": 40,
      "metadata": {
        "id": "Y4soON6BpSwD",
        "colab": {
          "base_uri": "https://localhost:8080/"
        },
        "outputId": "236df9ae-f951-4d64-f988-126d88f87cd6"
      },
      "outputs": [
        {
          "output_type": "stream",
          "name": "stderr",
          "text": [
            "[nltk_data] Downloading package stopwords to /root/nltk_data...\n",
            "[nltk_data]   Package stopwords is already up-to-date!\n"
          ]
        },
        {
          "output_type": "execute_result",
          "data": {
            "text/plain": [
              "array(['i', 'me', 'my', 'myself', 'we', 'our', 'ours', 'ourselves', 'you',\n",
              "       \"you're\", \"you've\", \"you'll\", \"you'd\", 'your', 'yours', 'yourself',\n",
              "       'yourselves', 'he', 'him', 'his', 'himself', 'she', \"she's\", 'her',\n",
              "       'hers', 'herself', 'it', \"it's\", 'its', 'itself', 'they', 'them',\n",
              "       'their', 'theirs', 'themselves', 'what', 'which', 'who', 'whom',\n",
              "       'this', 'that', \"that'll\", 'these', 'those', 'am', 'is', 'are',\n",
              "       'was', 'were', 'be', 'been', 'being', 'have', 'has', 'had',\n",
              "       'having', 'do', 'does', 'did', 'doing', 'a', 'an', 'the', 'and',\n",
              "       'but', 'if', 'or', 'because', 'as', 'until', 'while', 'of', 'at',\n",
              "       'by', 'for', 'with', 'about', 'against', 'between', 'into',\n",
              "       'through', 'during', 'before', 'after', 'above', 'below', 'to',\n",
              "       'from', 'up', 'down', 'in', 'out', 'on', 'off', 'over', 'under',\n",
              "       'again', 'further', 'then', 'once', 'here', 'there', 'when',\n",
              "       'where', 'why', 'how', 'all', 'any', 'both', 'each', 'few', 'more',\n",
              "       'most', 'other', 'some', 'such', 'no', 'nor', 'not', 'only', 'own',\n",
              "       'same', 'so', 'than', 'too', 'very', 's', 't', 'can', 'will',\n",
              "       'just', 'don', \"don't\", 'should', \"should've\", 'now', 'd', 'll',\n",
              "       'm', 'o', 're', 've', 'y', 'ain', 'aren', \"aren't\", 'couldn',\n",
              "       \"couldn't\", 'didn', \"didn't\", 'doesn', \"doesn't\", 'hadn', \"hadn't\",\n",
              "       'hasn', \"hasn't\", 'haven', \"haven't\", 'isn', \"isn't\", 'ma',\n",
              "       'mightn', \"mightn't\", 'mustn', \"mustn't\", 'needn', \"needn't\",\n",
              "       'shan', \"shan't\", 'shouldn', \"shouldn't\", 'wasn', \"wasn't\",\n",
              "       'weren', \"weren't\", 'won', \"won't\", 'wouldn', \"wouldn't\"],\n",
              "      dtype='<U10')"
            ]
          },
          "metadata": {},
          "execution_count": 40
        }
      ],
      "source": [
        "# Remove Stopwords\n",
        "# download the stop words list if it is not already downloaded\n",
        "nltk.download('stopwords')\n",
        "\n",
        "# create a set of English stop words\n",
        "stop_words = stopwords.words('english')\n",
        "\n",
        "# displaying stopwords\n",
        "np.array(stop_words)"
      ]
    },
    {
      "cell_type": "code",
      "source": [
        "def stopwords(text):\n",
        "    '''a function for removing the stopword and lowercase the each word'''\n",
        "    text = [word.lower() for word in text.split() if word.lower() not in stop_words]\n",
        "    # joining the list of words with space separator\n",
        "    return \" \".join(text)"
      ],
      "metadata": {
        "id": "Fh05WEXRB76O"
      },
      "execution_count": 41,
      "outputs": []
    },
    {
      "cell_type": "code",
      "source": [
        "# applying stopwords function.\n",
        "netflix['tags'] = netflix['tags'].apply(stopwords)"
      ],
      "metadata": {
        "id": "74jbZCs_CDE1"
      },
      "execution_count": 42,
      "outputs": []
    },
    {
      "cell_type": "markdown",
      "source": [
        "We have successfully removed all the stopwords and converted the corpus to lowercase."
      ],
      "metadata": {
        "id": "9hgC0qWVCQ-A"
      }
    },
    {
      "cell_type": "markdown",
      "source": [
        "####4.5. Stemming"
      ],
      "metadata": {
        "id": "DAtUDmxnDfzX"
      }
    },
    {
      "cell_type": "code",
      "source": [
        "from nltk.stem.snowball import SnowballStemmer\n",
        "\n",
        "# create an object of stemming function\n",
        "stemmer = SnowballStemmer(\"english\")\n",
        "\n",
        "def stemming(text):    \n",
        "    '''a function which stems each word in the given text'''\n",
        "    text = [stemmer.stem(word) for word in text.split()]\n",
        "    return \" \".join(text)"
      ],
      "metadata": {
        "id": "TJ2PIDM_DlOm"
      },
      "execution_count": 46,
      "outputs": []
    },
    {
      "cell_type": "code",
      "source": [
        "# appying stemming function\n",
        "netflix['tags'] = netflix['tags'].apply(stemming)"
      ],
      "metadata": {
        "id": "GfSs2DxrDsJb"
      },
      "execution_count": 47,
      "outputs": []
    },
    {
      "cell_type": "code",
      "source": [
        "netflix['tags'][0]"
      ],
      "metadata": {
        "colab": {
          "base_uri": "https://localhost:8080/",
          "height": 70
        },
        "id": "BOmVLwZTDx0U",
        "outputId": "146e2137-ca40-4c95-b8ed-f61246ec9f33"
      },
      "execution_count": 48,
      "outputs": [
        {
          "output_type": "execute_result",
          "data": {
            "text/plain": [
              "'futur elit inhabit island paradis far crowd slum get one chanc join 3 save squalorintern tv show tv drama tv scifi fantasytvmajoão miguel bianca comparato michel gome rodolfo valent vaneza oliveira rafael lozano vivian porto mel fronckowiak sergio mamberti zezé motta celso frateschibrazilunknown'"
            ],
            "application/vnd.google.colaboratory.intrinsic+json": {
              "type": "string"
            }
          },
          "metadata": {},
          "execution_count": 48
        }
      ]
    },
    {
      "cell_type": "markdown",
      "metadata": {
        "id": "zZLBPEmypSwD"
      },
      "source": [
        "#### 6. Rephrase Text"
      ]
    },
    {
      "cell_type": "code",
      "execution_count": null,
      "metadata": {
        "id": "rTHuBdtFpSwE"
      },
      "outputs": [],
      "source": [
        "# Rephrase Text"
      ]
    },
    {
      "cell_type": "markdown",
      "metadata": {
        "id": "KiG1jE5BpSwE"
      },
      "source": [
        "#### 7. Tokenization"
      ]
    },
    {
      "cell_type": "code",
      "execution_count": null,
      "metadata": {
        "id": "qjaZVb9YpSwE"
      },
      "outputs": [],
      "source": [
        "# Tokenization"
      ]
    },
    {
      "cell_type": "markdown",
      "metadata": {
        "id": "H5ti6KsmpSwE"
      },
      "source": [
        "#### 8. Text Normalization"
      ]
    },
    {
      "cell_type": "code",
      "execution_count": null,
      "metadata": {
        "id": "rr9jP3nYpSwE"
      },
      "outputs": [],
      "source": [
        "# Normalizing Text (i.e., Stemming, Lemmatization etc.)"
      ]
    },
    {
      "cell_type": "markdown",
      "metadata": {
        "id": "rFEWT8MppSwE"
      },
      "source": [
        "##### Which text normalization technique have you used and why?"
      ]
    },
    {
      "cell_type": "markdown",
      "metadata": {
        "id": "rE8Cx-pIpSwF"
      },
      "source": [
        "Answer Here."
      ]
    },
    {
      "cell_type": "markdown",
      "metadata": {
        "id": "LH8TCsi5pSwF"
      },
      "source": [
        "#### 9. Part of speech tagging"
      ]
    },
    {
      "cell_type": "code",
      "execution_count": null,
      "metadata": {
        "id": "qjRtdxYBpSwF"
      },
      "outputs": [],
      "source": [
        "# POS Taging"
      ]
    },
    {
      "cell_type": "markdown",
      "metadata": {
        "id": "PFywGxWNpSwF"
      },
      "source": [
        "#### 10. Text Vectorization"
      ]
    },
    {
      "cell_type": "code",
      "execution_count": 49,
      "metadata": {
        "id": "yZPXBiSHpSwF"
      },
      "outputs": [],
      "source": [
        "# Vectorizing Text\n",
        "# create the object of tfid vectorizer\n",
        "tfidf = TfidfVectorizer(stop_words='english', lowercase=False, max_features = 10000)   # max features = 10000 to prevent system from crashing\n",
        "\n",
        "# fit the vectorizer using the text data\n",
        "tfidf.fit(netflix['tags'])\n",
        "\n",
        "# collect the vocabulary items used in the vectorizer\n",
        "dictionary = tfidf.vocabulary_.items()"
      ]
    },
    {
      "cell_type": "code",
      "source": [
        "print(len(dictionary))"
      ],
      "metadata": {
        "colab": {
          "base_uri": "https://localhost:8080/"
        },
        "id": "NwvSGNv3EETR",
        "outputId": "f5bc4d47-aad8-4ead-dfef-150243bd7c0e"
      },
      "execution_count": 50,
      "outputs": [
        {
          "output_type": "stream",
          "name": "stdout",
          "text": [
            "10000\n"
          ]
        }
      ]
    },
    {
      "cell_type": "code",
      "source": [
        "# convert vector into array form for clustering\n",
        "vector = tfidf.transform(netflix['tags']).toarray()\n",
        "\n",
        "# summarize encoded vector\n",
        "print(vector)\n",
        "print(f'shape of the vector : {vector.shape}')\n",
        "print(f'datatype : {type(vector)}')"
      ],
      "metadata": {
        "colab": {
          "base_uri": "https://localhost:8080/"
        },
        "id": "pfgjq6AqEM2F",
        "outputId": "f6b3d7ab-0608-4b15-b7e9-2f18a1b77f05"
      },
      "execution_count": 51,
      "outputs": [
        {
          "output_type": "stream",
          "name": "stdout",
          "text": [
            "[[0. 0. 0. ... 0. 0. 0.]\n",
            " [0. 0. 0. ... 0. 0. 0.]\n",
            " [0. 0. 0. ... 0. 0. 0.]\n",
            " ...\n",
            " [0. 0. 0. ... 0. 0. 0.]\n",
            " [0. 0. 0. ... 0. 0. 0.]\n",
            " [0. 0. 0. ... 0. 0. 0.]]\n",
            "shape of the vector : (7787, 10000)\n",
            "datatype : <class 'numpy.ndarray'>\n"
          ]
        }
      ]
    },
    {
      "cell_type": "markdown",
      "metadata": {
        "id": "twtzl-s8pSwF"
      },
      "source": [
        "##### Which text vectorization technique have you used and why?"
      ]
    },
    {
      "cell_type": "markdown",
      "metadata": {
        "id": "OpF3PYG_pSwF"
      },
      "source": [
        "Answer Here."
      ]
    },
    {
      "cell_type": "markdown",
      "metadata": {
        "id": "ztC8P6gepSwG"
      },
      "source": [
        "### 4. Feature Manipulation & Selection"
      ]
    },
    {
      "cell_type": "markdown",
      "metadata": {
        "id": "j5jj9rtNpSwG"
      },
      "source": [
        "#### 1. Feature Manipulation"
      ]
    },
    {
      "cell_type": "code",
      "execution_count": null,
      "metadata": {
        "id": "r9NAO6q3pSwG"
      },
      "outputs": [],
      "source": [
        "## Manipulate Features to minimize feature correlation and create new features\n",
        "# Checking the features to exctract new feature from it\n",
        "df.head()"
      ]
    },
    {
      "cell_type": "markdown",
      "metadata": {
        "id": "HN24TiF9rb4t"
      },
      "source": [
        "As we can observe from heatmap that sysBP and diaBP are highly correlated with each other.\n",
        "So, let's create a feature as pulse_pressure which contains the information of both sysBP and diaBP.\n",
        "\n",
        "\n",
        "\n"
      ]
    },
    {
      "cell_type": "code",
      "execution_count": null,
      "metadata": {
        "id": "-hJqgH5rw4m2"
      },
      "outputs": [],
      "source": [
        "# Checking the head after extracting new feature\n",
        "df.head()"
      ]
    },
    {
      "cell_type": "code",
      "execution_count": null,
      "metadata": {
        "id": "CEzxQz5sHNSG"
      },
      "outputs": [],
      "source": [
        "# Extracting new feature pulse_pressure with the help of sysBP and diaBP\n",
        "df['pulse_pressure']= round(df['sysBP']-df['diaBP'],2)"
      ]
    },
    {
      "cell_type": "markdown",
      "metadata": {
        "id": "xg9GhSn9W9IE"
      },
      "source": [
        "Since Glucose and Diabetes are highly correlated, which is quite obvious as well. If a person has high glucose level (>140) then there are higher chances that the patient can suffer from Diabetes.So, let's create new feature as glucose_diabetes by using these two features."
      ]
    },
    {
      "cell_type": "code",
      "execution_count": null,
      "metadata": {
        "id": "BkTIqrF9RQdN"
      },
      "outputs": [],
      "source": [
        "# Extracting new feature glucose_diabetes with the help of Glucose and Diabetes\n",
        "df['glucose_diabetes'] = ((df['glucose'] > 140) & (df['diabetes'] == 1)).astype(int)"
      ]
    },
    {
      "cell_type": "code",
      "execution_count": null,
      "metadata": {
        "id": "i_VGParxXveM"
      },
      "outputs": [],
      "source": [
        "# Checking the head after extracting new feature\n",
        "df.head()"
      ]
    },
    {
      "cell_type": "markdown",
      "metadata": {
        "id": "luGJZyZQpSwH"
      },
      "source": [
        "#### 2. Feature Selection"
      ]
    },
    {
      "cell_type": "code",
      "execution_count": null,
      "metadata": {
        "id": "mKONDmA__9xw"
      },
      "outputs": [],
      "source": [
        "## Select your features wisely to avoid overfitting\n",
        "# Correlation Heatmap visualization code\n",
        "plt.figure(figsize=(20,15))\n",
        "sns.heatmap(df.corr(), annot=True, cmap=sns.color_palette(\"Set1\"))"
      ]
    },
    {
      "cell_type": "markdown",
      "source": [
        "Let's include only those features in our final dataframe that are highly impacting on the dependent variable. For this we are using Variance Inflation Factor technique to determine multicolinearity."
      ],
      "metadata": {
        "id": "g1uFSBpHWb8N"
      }
    },
    {
      "cell_type": "code",
      "execution_count": null,
      "metadata": {
        "id": "kAYHMN6BCHTd"
      },
      "outputs": [],
      "source": [
        "# Defining a function for variance_inflation_factor\n",
        "from statsmodels.stats.outliers_influence import variance_inflation_factor\n",
        "def calc_vif(X):\n",
        "\n",
        "    # Calculating VIF\n",
        "    vif = pd.DataFrame()\n",
        "    vif[\"variables\"] = X.columns\n",
        "    vif[\"VIF\"] = [variance_inflation_factor(X.values, i) for i in range(X.shape[1])]\n",
        "\n",
        "    return(vif)"
      ]
    },
    {
      "cell_type": "markdown",
      "source": [
        "Calculating VIF(Variance Inflation Factor) by excluding:\n",
        "\n",
        "\"TenYearCHD\" -> As it is target variable\n",
        "\n",
        "\"id\" -> As it is not giving any information"
      ],
      "metadata": {
        "id": "KBJyjuChWqZV"
      }
    },
    {
      "cell_type": "code",
      "execution_count": null,
      "metadata": {
        "id": "_ZLdPeyVCOEQ"
      },
      "outputs": [],
      "source": [
        "# calculating the vif by excluding some features which are not giving any information\n",
        "calc_vif(df[[i for i in df.describe().columns if i not in ['id','TenYearCHD']]])"
      ]
    },
    {
      "cell_type": "markdown",
      "source": [
        "Now,let's exclude sysBP,diaBP,glucose and diabetes as we have already created two new features using them.along with it we will also exclude is_smoking as it is highly correlated with cigsPerDay."
      ],
      "metadata": {
        "id": "kMY7vqSHXAZC"
      }
    },
    {
      "cell_type": "code",
      "execution_count": null,
      "metadata": {
        "id": "vqV4uSH4V7uq"
      },
      "outputs": [],
      "source": [
        "# calculating the vif by excluding some features which are not giving any information\n",
        "calc_vif(df[[i for i in df.describe().columns if i not in ['id','TenYearCHD','sysBP','diaBP','glucose','diabetes','is_smoking']]])"
      ]
    },
    {
      "cell_type": "markdown",
      "source": [
        "Let's exclude tot_chol as it is not impacting much on target variable."
      ],
      "metadata": {
        "id": "rnIkjBUBY8ty"
      }
    },
    {
      "cell_type": "code",
      "execution_count": null,
      "metadata": {
        "id": "9y1bKyWfmzMR"
      },
      "outputs": [],
      "source": [
        "# calculating the vif by excluding some features which are not giving any information\n",
        "calc_vif(df[[i for i in df.describe().columns if i not in ['id','TenYearCHD','sysBP','diaBP','glucose','diabetes','is_smoking','totChol']]])"
      ]
    },
    {
      "cell_type": "markdown",
      "source": [
        "Let's exclude BMI as it is having high VIF and not impacting much on target variable."
      ],
      "metadata": {
        "id": "YEC3DM08ke-f"
      }
    },
    {
      "cell_type": "code",
      "execution_count": null,
      "metadata": {
        "id": "EHMgmDU-nG4-"
      },
      "outputs": [],
      "source": [
        "# calculating the vif by excluding some features which are not giving any information\n",
        "calc_vif(df[[i for i in df.describe().columns if i not in ['id','TenYearCHD','sysBP','diaBP','glucose','diabetes','is_smoking','totChol','BMI']]])"
      ]
    },
    {
      "cell_type": "markdown",
      "source": [
        "At last, We will exclude heartRate as it is having high VIF and not impacting much on target variable."
      ],
      "metadata": {
        "id": "NA33NQcnk7Ur"
      }
    },
    {
      "cell_type": "code",
      "execution_count": null,
      "metadata": {
        "id": "dtsamofOnG2L"
      },
      "outputs": [],
      "source": [
        "# calculating the vif by excluding some features which are not giving any information\n",
        "calc_vif(df[[i for i in df.describe().columns if i not in ['id','TenYearCHD','sysBP','diaBP','glucose','diabetes','is_smoking','education','totChol','BMI','heartRate']]])"
      ]
    },
    {
      "cell_type": "code",
      "execution_count": null,
      "metadata": {
        "id": "SeMT6ZpLFzvA"
      },
      "outputs": [],
      "source": [
        "# Creating final dataframe considering above selected features\n",
        "final_df= df[['age', 'education','sex','cigsPerDay','BPMeds','prevalentStroke','prevalentHyp','glucose_diabetes','pulse_pressure','TenYearCHD']]"
      ]
    },
    {
      "cell_type": "markdown",
      "metadata": {
        "id": "f2_UovfApSwI"
      },
      "source": [
        "##### What all feature selection methods have you used  and why?"
      ]
    },
    {
      "cell_type": "markdown",
      "metadata": {
        "id": "9dP2I3dGpSwI"
      },
      "source": [
        "We have plotted the seaborn's scatterplot and seaborn's heatmap to see the relationship of each of the feature with target variable and observed that some features like BPmeds, diabetes, totchol etc. are positively correlated with target variable. While sex, education are negatively correlated with target variable.\n",
        "\n",
        "We have also used **Filter method** with correlation heatmap and VIF(various inflation factor) and excluded some of the features that were creating noise while model implimentation.Also, we have removed multicolinearity and selected features that are highly dependant on our target variable."
      ]
    },
    {
      "cell_type": "markdown",
      "metadata": {
        "id": "gX3rlcmhpSwI"
      },
      "source": [
        "##### Which all features you found important and why?"
      ]
    },
    {
      "cell_type": "markdown",
      "metadata": {
        "id": "fhLL-oFipSwJ"
      },
      "source": [
        "We have selected below features as our final features as they are highly corelated with the target variable (Sales) and no two features are providing the same information.\n",
        "\n",
        "\n",
        "'age','education','sex','cigsPerDay',\n",
        "'BPMeds','prevalentStroke','prevalentHyp',\n",
        "'glucose_diabetes','pulse_pressure','TenYearCHD'."
      ]
    },
    {
      "cell_type": "markdown",
      "metadata": {
        "id": "bWsEwGgkpSwJ"
      },
      "source": [
        "### 5. Data Transformation"
      ]
    },
    {
      "cell_type": "code",
      "execution_count": null,
      "metadata": {
        "id": "7HAxHRfgsREb"
      },
      "outputs": [],
      "source": [
        "# checking which of the variables are continous in nature\n",
        "for i in final_df.columns:\n",
        "  print(f\"The number of unique counts in feature {i} is: {final_df[i].nunique()}\")"
      ]
    },
    {
      "cell_type": "code",
      "execution_count": null,
      "metadata": {
        "id": "RdbLqUAbwG92"
      },
      "outputs": [],
      "source": [
        "import matplotlib.pyplot as plt\n",
        "import scipy.stats as stat\n",
        "import pylab \n",
        "#### If you want to check whether feature is guassian or normal distributed\n",
        "#### Q-Q plot\n",
        "def plot_data(df,feature):\n",
        "    stat.probplot(df[feature],dist='norm',plot=pylab)"
      ]
    },
    {
      "cell_type": "code",
      "execution_count": null,
      "metadata": {
        "id": "z-83_u6CupaE"
      },
      "outputs": [],
      "source": [
        "# Checking the distribution and Q-Q plot of each continous variable from our final dataframe\n",
        "plt.figure(figsize=(16,5))\n",
        "print(\"Before Applying Transformation\")\n",
        "print(f\"Skewness of 'age','cigsPerDay'and 'pulse_pressure': {round(final_df['age'].skew(),2)}, {round(final_df['cigsPerDay'].skew(),2)}, {round(final_df['pulse_pressure'].skew(),2)}\")\n",
        "\n",
        "for n,col in enumerate(['age','cigsPerDay','pulse_pressure']):\n",
        "  plt.subplot(1,3,n+1)\n",
        "  sns.distplot(final_df[col])\n",
        "  plt.title(f'Distribution of {col}')\n",
        "  plt.tight_layout()\n",
        "\n",
        "plt.figure(figsize=(20,5))\n",
        "for num,column in enumerate(['age','cigsPerDay','pulse_pressure']):\n",
        "  plt.subplot(1,3,num+1)\n",
        "  print(f\"Q-Q Plot for variable: {column}\")\n",
        "  plot_data(final_df,column)\n",
        "\n",
        "plt.show()"
      ]
    },
    {
      "cell_type": "markdown",
      "metadata": {
        "id": "F54hDd87wFjE"
      },
      "source": [
        "It is clear from above distribution plots that they are not perfectly normally distributed. So we will apply some transformation techniques to get the normally disrtibuted data."
      ]
    },
    {
      "cell_type": "code",
      "execution_count": null,
      "metadata": {
        "id": "lNhsKKbjy_Pm"
      },
      "outputs": [],
      "source": [
        "# Creating 5 different copies to check the distribution of each of the variable\n",
        "test_df1=final_df.copy()\n",
        "test_df2=final_df.copy()\n",
        "test_df3=final_df.copy()\n",
        "test_df4=final_df.copy()"
      ]
    },
    {
      "cell_type": "markdown",
      "metadata": {
        "id": "kXylZ9awzJhB"
      },
      "source": [
        "Logarithmic Transformation"
      ]
    },
    {
      "cell_type": "code",
      "execution_count": null,
      "metadata": {
        "id": "wEzMgoZNzB4d"
      },
      "outputs": [],
      "source": [
        "# Applying transformation on the above considered columns\n",
        "test_df1['age']=np.log(test_df1['age']+1)\n",
        "test_df1['cigsPerDay']=np.log(test_df1['cigsPerDay']+1)\n",
        "test_df1['pulse_pressure']=np.log(test_df1['pulse_pressure']+1)\n",
        "\n",
        "\n",
        "# Checking the distribution and Q-Q plot of each continous variable from our final dataframe\n",
        "plt.figure(figsize=(16,5))\n",
        "print(\"After Applying Transformation\")\n",
        "print(f\"Skewness of 'age','cigsPerDay' and 'pulse_pressure' : {round(test_df1['age'].skew(),2)}, {round(test_df1['cigsPerDay'].skew(),2)}, {round(test_df1['pulse_pressure'].skew(),2)}\")\n",
        "\n",
        "for n,col in enumerate(['age','cigsPerDay','pulse_pressure']):\n",
        "  plt.subplot(1,3,n+1)\n",
        "  sns.distplot(test_df1[col])\n",
        "  plt.title(f'Distribution of {col}')\n",
        "  plt.tight_layout()\n",
        "\n",
        "plt.figure(figsize=(20,5))\n",
        "for num,column in enumerate(['age','cigsPerDay','pulse_pressure']):\n",
        "  plt.subplot(1,3,num+1)\n",
        "  print(f\"Q-Q Plot for variable: {column}\")\n",
        "  plot_data(test_df1,column)\n",
        "\n",
        "plt.show()"
      ]
    },
    {
      "cell_type": "markdown",
      "metadata": {
        "id": "jEOuptPCzqPN"
      },
      "source": [
        "Reciprocal Trnasformation"
      ]
    },
    {
      "cell_type": "code",
      "execution_count": null,
      "metadata": {
        "id": "QUHbHd8LzZfQ"
      },
      "outputs": [],
      "source": [
        "# Applying transformation on the above considered columns\n",
        "test_df2['age']=1/(test_df2['age']+1)\n",
        "test_df2['cigsPerDay']=1/(test_df2['cigsPerDay']+1)\n",
        "test_df2['pulse_pressure']=1/(test_df2['pulse_pressure']+1)\n",
        "\n",
        "\n",
        "# Checking the distribution and Q-Q plot of each continous variable from our final dataframe\n",
        "plt.figure(figsize=(16,5))\n",
        "print(\"After Applying Transformation\")\n",
        "print(f\"Skewness of 'age','cigsPerDay' and 'pulse_pressure': {round(test_df2['age'].skew(),2)}, {round(test_df2['cigsPerDay'].skew(),2)}, {round(test_df2['pulse_pressure'].skew(),2)}\")\n",
        "\n",
        "for n,col in enumerate(['age','cigsPerDay','pulse_pressure']):\n",
        "  plt.subplot(1,3,n+1)\n",
        "  sns.distplot(test_df2[col])\n",
        "  plt.title(f'Distribution of {col}')\n",
        "  plt.tight_layout()\n",
        "\n",
        "plt.figure(figsize=(20,5))\n",
        "for num,column in enumerate(['age','cigsPerDay','pulse_pressure']):\n",
        "  plt.subplot(1,3,num+1)\n",
        "  print(f\"Q-Q Plot for variable: {column}\")\n",
        "  plot_data(test_df2,column)\n",
        "\n",
        "plt.show()"
      ]
    },
    {
      "cell_type": "markdown",
      "metadata": {
        "id": "w5kJ5ppf0lko"
      },
      "source": [
        "Square Root Transformation"
      ]
    },
    {
      "cell_type": "code",
      "execution_count": null,
      "metadata": {
        "id": "BA9KRnQH0m6n"
      },
      "outputs": [],
      "source": [
        "# Applying transformation on the above considered columns\n",
        "test_df3['age']=1/(test_df3['age']+1)\n",
        "test_df3['cigsPerDay']=1/(test_df3['cigsPerDay']+1)\n",
        "test_df3['pulse_pressure']=1/(test_df3['pulse_pressure']+1)\n",
        "\n",
        "# Checking the distribution and Q-Q plot of each continous variable from our final dataframe\n",
        "plt.figure(figsize=(16,5))\n",
        "print(\"After Applying Transformation\")\n",
        "print(f\"Skewness of 'age','cigsPerDay' and 'pulse_pressure': {round(test_df3['age'].skew(),2)}, {round(test_df3['cigsPerDay'].skew(),2)}, {round(test_df3['pulse_pressure'].skew(),2)}\")\n",
        "\n",
        "for n,col in enumerate(['age','cigsPerDay','pulse_pressure']):\n",
        "  plt.subplot(1,3,n+1)\n",
        "  sns.distplot(test_df3[col])\n",
        "  plt.title(f'Distribution of {col}')\n",
        "  plt.tight_layout()\n",
        "\n",
        "plt.figure(figsize=(20,5))\n",
        "for num,column in enumerate(['age','cigsPerDay','pulse_pressure']):\n",
        "  plt.subplot(1,3,num+1)\n",
        "  print(f\"Q-Q Plot for variable: {column}\")\n",
        "  plot_data(test_df3,column)\n",
        "\n",
        "plt.show()"
      ]
    },
    {
      "cell_type": "markdown",
      "metadata": {
        "id": "HPrF8R3V02U3"
      },
      "source": [
        "Exponential Transformation"
      ]
    },
    {
      "cell_type": "code",
      "execution_count": null,
      "metadata": {
        "id": "ajy91OUl0m3z"
      },
      "outputs": [],
      "source": [
        "# Applying transformation on the above considered columns\n",
        "test_df4['age']=1/(test_df4['age']+1)\n",
        "test_df4['cigsPerDay']=1/(test_df4['cigsPerDay']+1)\n",
        "test_df4['pulse_pressure']=1/(test_df4['pulse_pressure']+1)\n",
        "\n",
        "# Checking the distribution and Q-Q plot of each continous variable from our final dataframe\n",
        "plt.figure(figsize=(16,5))\n",
        "print(\"After Applying Transformation\")\n",
        "print(f\"Skewness of 'age','cigsPerDay' and 'pulse_pressure': {round(test_df4['age'].skew(),2)}, {round(test_df4['cigsPerDay'].skew(),2)}, {round(test_df4['pulse_pressure'].skew(),2)}\")\n",
        "\n",
        "for n,col in enumerate(['age','cigsPerDay','pulse_pressure']):\n",
        "  plt.subplot(1,3,n+1)\n",
        "  sns.distplot(test_df4[col])\n",
        "  plt.title(f'Distribution of {col}')\n",
        "  plt.tight_layout()\n",
        "\n",
        "plt.figure(figsize=(20,5))\n",
        "for num,column in enumerate(['age','cigsPerDay','pulse_pressure']):\n",
        "  plt.subplot(1,3,num+1)\n",
        "  print(f\"Q-Q Plot for variable: {column}\")\n",
        "  plot_data(test_df4,column)\n",
        "\n",
        "plt.show()"
      ]
    },
    {
      "cell_type": "markdown",
      "metadata": {
        "id": "tMeZV0ZDOKXP"
      },
      "source": [
        "From the above plots it is clear that:\n",
        "\n",
        "1. Feature \"age\" needs Logarithmic transformation\n",
        "2. Feature \"cigsPerDay\" no transformation needed\n",
        "3. Feature \"pulse_pressure\" no transformation needed\n"
      ]
    },
    {
      "cell_type": "code",
      "execution_count": null,
      "metadata": {
        "id": "WkMOywme0mwM"
      },
      "outputs": [],
      "source": [
        "# Applying logarithmic transformation on age feature\n",
        "final_df['age']=np.log(final_df['age']+1)"
      ]
    },
    {
      "cell_type": "markdown",
      "metadata": {
        "id": "xoQIZglRpSwL"
      },
      "source": [
        "### 6. Data Splitting"
      ]
    },
    {
      "cell_type": "code",
      "execution_count": null,
      "metadata": {
        "id": "uKuUcrmZ6KQx"
      },
      "outputs": [],
      "source": [
        "# Split your data to train and test. Choose Splitting ratio wisely.\n",
        "x= final_df.drop(columns='TenYearCHD',axis=1)\n",
        "y= final_df[['TenYearCHD']]\n",
        "\n",
        "## Importing train_test_split from sklearn\n",
        "from sklearn.model_selection import train_test_split\n",
        "\n",
        "## Spliting data\n",
        "x_train, x_test, y_train, y_test = train_test_split(x, y, test_size=0.2, random_state=0, stratify=y)"
      ]
    },
    {
      "cell_type": "code",
      "execution_count": null,
      "metadata": {
        "id": "lVgX73sYIh5R"
      },
      "outputs": [],
      "source": [
        "# Checking the distribution of classes in training and testing sets\n",
        "print(\"Distribution of classes of dependent variable in train :\")\n",
        "print(y_train.value_counts())\n",
        "\n",
        "print(\"Distribution of classes of dependent variable in test :\")\n",
        "print(y_test.value_counts())"
      ]
    },
    {
      "cell_type": "markdown",
      "metadata": {
        "id": "cnSJ--rCpSwM"
      },
      "source": [
        "##### What data splitting ratio have you used and why? "
      ]
    },
    {
      "cell_type": "markdown",
      "metadata": {
        "id": "cprfvmxjpSwM"
      },
      "source": [
        "\n",
        "*   Train Set - 80\n",
        "*   Test Set - 20"
      ]
    },
    {
      "cell_type": "markdown",
      "metadata": {
        "id": "1lRGmCVGpSwM"
      },
      "source": [
        "### 7. Dimesionality Reduction"
      ]
    },
    {
      "cell_type": "code",
      "source": [
        "# using PCA to reduce dimensionality\n",
        "pca = PCA(random_state=42)\n",
        "pca.fit(vector)"
      ],
      "metadata": {
        "colab": {
          "base_uri": "https://localhost:8080/",
          "height": 74
        },
        "id": "8jRVCVn8EWOP",
        "outputId": "358bb115-7bd1-45e7-d29a-335ffe51b7c6"
      },
      "execution_count": 52,
      "outputs": [
        {
          "output_type": "execute_result",
          "data": {
            "text/plain": [
              "PCA(random_state=42)"
            ],
            "text/html": [
              "<style>#sk-container-id-1 {color: black;background-color: white;}#sk-container-id-1 pre{padding: 0;}#sk-container-id-1 div.sk-toggleable {background-color: white;}#sk-container-id-1 label.sk-toggleable__label {cursor: pointer;display: block;width: 100%;margin-bottom: 0;padding: 0.3em;box-sizing: border-box;text-align: center;}#sk-container-id-1 label.sk-toggleable__label-arrow:before {content: \"▸\";float: left;margin-right: 0.25em;color: #696969;}#sk-container-id-1 label.sk-toggleable__label-arrow:hover:before {color: black;}#sk-container-id-1 div.sk-estimator:hover label.sk-toggleable__label-arrow:before {color: black;}#sk-container-id-1 div.sk-toggleable__content {max-height: 0;max-width: 0;overflow: hidden;text-align: left;background-color: #f0f8ff;}#sk-container-id-1 div.sk-toggleable__content pre {margin: 0.2em;color: black;border-radius: 0.25em;background-color: #f0f8ff;}#sk-container-id-1 input.sk-toggleable__control:checked~div.sk-toggleable__content {max-height: 200px;max-width: 100%;overflow: auto;}#sk-container-id-1 input.sk-toggleable__control:checked~label.sk-toggleable__label-arrow:before {content: \"▾\";}#sk-container-id-1 div.sk-estimator input.sk-toggleable__control:checked~label.sk-toggleable__label {background-color: #d4ebff;}#sk-container-id-1 div.sk-label input.sk-toggleable__control:checked~label.sk-toggleable__label {background-color: #d4ebff;}#sk-container-id-1 input.sk-hidden--visually {border: 0;clip: rect(1px 1px 1px 1px);clip: rect(1px, 1px, 1px, 1px);height: 1px;margin: -1px;overflow: hidden;padding: 0;position: absolute;width: 1px;}#sk-container-id-1 div.sk-estimator {font-family: monospace;background-color: #f0f8ff;border: 1px dotted black;border-radius: 0.25em;box-sizing: border-box;margin-bottom: 0.5em;}#sk-container-id-1 div.sk-estimator:hover {background-color: #d4ebff;}#sk-container-id-1 div.sk-parallel-item::after {content: \"\";width: 100%;border-bottom: 1px solid gray;flex-grow: 1;}#sk-container-id-1 div.sk-label:hover label.sk-toggleable__label {background-color: #d4ebff;}#sk-container-id-1 div.sk-serial::before {content: \"\";position: absolute;border-left: 1px solid gray;box-sizing: border-box;top: 0;bottom: 0;left: 50%;z-index: 0;}#sk-container-id-1 div.sk-serial {display: flex;flex-direction: column;align-items: center;background-color: white;padding-right: 0.2em;padding-left: 0.2em;position: relative;}#sk-container-id-1 div.sk-item {position: relative;z-index: 1;}#sk-container-id-1 div.sk-parallel {display: flex;align-items: stretch;justify-content: center;background-color: white;position: relative;}#sk-container-id-1 div.sk-item::before, #sk-container-id-1 div.sk-parallel-item::before {content: \"\";position: absolute;border-left: 1px solid gray;box-sizing: border-box;top: 0;bottom: 0;left: 50%;z-index: -1;}#sk-container-id-1 div.sk-parallel-item {display: flex;flex-direction: column;z-index: 1;position: relative;background-color: white;}#sk-container-id-1 div.sk-parallel-item:first-child::after {align-self: flex-end;width: 50%;}#sk-container-id-1 div.sk-parallel-item:last-child::after {align-self: flex-start;width: 50%;}#sk-container-id-1 div.sk-parallel-item:only-child::after {width: 0;}#sk-container-id-1 div.sk-dashed-wrapped {border: 1px dashed gray;margin: 0 0.4em 0.5em 0.4em;box-sizing: border-box;padding-bottom: 0.4em;background-color: white;}#sk-container-id-1 div.sk-label label {font-family: monospace;font-weight: bold;display: inline-block;line-height: 1.2em;}#sk-container-id-1 div.sk-label-container {text-align: center;}#sk-container-id-1 div.sk-container {/* jupyter's `normalize.less` sets `[hidden] { display: none; }` but bootstrap.min.css set `[hidden] { display: none !important; }` so we also need the `!important` here to be able to override the default hidden behavior on the sphinx rendered scikit-learn.org. See: https://github.com/scikit-learn/scikit-learn/issues/21755 */display: inline-block !important;position: relative;}#sk-container-id-1 div.sk-text-repr-fallback {display: none;}</style><div id=\"sk-container-id-1\" class=\"sk-top-container\"><div class=\"sk-text-repr-fallback\"><pre>PCA(random_state=42)</pre><b>In a Jupyter environment, please rerun this cell to show the HTML representation or trust the notebook. <br />On GitHub, the HTML representation is unable to render, please try loading this page with nbviewer.org.</b></div><div class=\"sk-container\" hidden><div class=\"sk-item\"><div class=\"sk-estimator sk-toggleable\"><input class=\"sk-toggleable__control sk-hidden--visually\" id=\"sk-estimator-id-1\" type=\"checkbox\" checked><label for=\"sk-estimator-id-1\" class=\"sk-toggleable__label sk-toggleable__label-arrow\">PCA</label><div class=\"sk-toggleable__content\"><pre>PCA(random_state=42)</pre></div></div></div></div></div>"
            ]
          },
          "metadata": {},
          "execution_count": 52
        }
      ]
    },
    {
      "cell_type": "code",
      "source": [
        "# Explained variance for different number of components\n",
        "plt.figure(figsize=(10,5))\n",
        "plt.plot(np.cumsum(pca.explained_variance_ratio_))\n",
        "plt.title('PCA - cumulative explained variance vs number of components')\n",
        "plt.xlabel('number of components')\n",
        "plt.ylabel('cumulative explained variance')\n",
        "plt.axhline(y= 0.8, color='red', linestyle='--')\n",
        "plt.axvline(x= 3000, color='green', linestyle='--')\n",
        "plt.show()"
      ],
      "metadata": {
        "colab": {
          "base_uri": "https://localhost:8080/",
          "height": 350
        },
        "id": "V0_1AfW4EgPP",
        "outputId": "8caa06d3-19ae-4e45-a436-72c45fabbc28"
      },
      "execution_count": 53,
      "outputs": [
        {
          "output_type": "display_data",
          "data": {
            "text/plain": [
              "<Figure size 720x360 with 1 Axes>"
            ],
            "image/png": "[encoded data removed]"
          },
          "metadata": {
            "needs_background": "light"
          }
        }
      ]
    },
    {
      "cell_type": "code",
      "source": [
        "# reducing the dimensions to 3000 using pca\n",
        "pca = PCA(n_components=3000, random_state=42)\n",
        "pca.fit(vector)"
      ],
      "metadata": {
        "colab": {
          "base_uri": "https://localhost:8080/",
          "height": 74
        },
        "id": "lmsredzmFCym",
        "outputId": "0340dd0a-e445-41d8-ba07-467d270258ec"
      },
      "execution_count": 54,
      "outputs": [
        {
          "output_type": "execute_result",
          "data": {
            "text/plain": [
              "PCA(n_components=3000, random_state=42)"
            ],
            "text/html": [
              "<style>#sk-container-id-2 {color: black;background-color: white;}#sk-container-id-2 pre{padding: 0;}#sk-container-id-2 div.sk-toggleable {background-color: white;}#sk-container-id-2 label.sk-toggleable__label {cursor: pointer;display: block;width: 100%;margin-bottom: 0;padding: 0.3em;box-sizing: border-box;text-align: center;}#sk-container-id-2 label.sk-toggleable__label-arrow:before {content: \"▸\";float: left;margin-right: 0.25em;color: #696969;}#sk-container-id-2 label.sk-toggleable__label-arrow:hover:before {color: black;}#sk-container-id-2 div.sk-estimator:hover label.sk-toggleable__label-arrow:before {color: black;}#sk-container-id-2 div.sk-toggleable__content {max-height: 0;max-width: 0;overflow: hidden;text-align: left;background-color: #f0f8ff;}#sk-container-id-2 div.sk-toggleable__content pre {margin: 0.2em;color: black;border-radius: 0.25em;background-color: #f0f8ff;}#sk-container-id-2 input.sk-toggleable__control:checked~div.sk-toggleable__content {max-height: 200px;max-width: 100%;overflow: auto;}#sk-container-id-2 input.sk-toggleable__control:checked~label.sk-toggleable__label-arrow:before {content: \"▾\";}#sk-container-id-2 div.sk-estimator input.sk-toggleable__control:checked~label.sk-toggleable__label {background-color: #d4ebff;}#sk-container-id-2 div.sk-label input.sk-toggleable__control:checked~label.sk-toggleable__label {background-color: #d4ebff;}#sk-container-id-2 input.sk-hidden--visually {border: 0;clip: rect(1px 1px 1px 1px);clip: rect(1px, 1px, 1px, 1px);height: 1px;margin: -1px;overflow: hidden;padding: 0;position: absolute;width: 1px;}#sk-container-id-2 div.sk-estimator {font-family: monospace;background-color: #f0f8ff;border: 1px dotted black;border-radius: 0.25em;box-sizing: border-box;margin-bottom: 0.5em;}#sk-container-id-2 div.sk-estimator:hover {background-color: #d4ebff;}#sk-container-id-2 div.sk-parallel-item::after {content: \"\";width: 100%;border-bottom: 1px solid gray;flex-grow: 1;}#sk-container-id-2 div.sk-label:hover label.sk-toggleable__label {background-color: #d4ebff;}#sk-container-id-2 div.sk-serial::before {content: \"\";position: absolute;border-left: 1px solid gray;box-sizing: border-box;top: 0;bottom: 0;left: 50%;z-index: 0;}#sk-container-id-2 div.sk-serial {display: flex;flex-direction: column;align-items: center;background-color: white;padding-right: 0.2em;padding-left: 0.2em;position: relative;}#sk-container-id-2 div.sk-item {position: relative;z-index: 1;}#sk-container-id-2 div.sk-parallel {display: flex;align-items: stretch;justify-content: center;background-color: white;position: relative;}#sk-container-id-2 div.sk-item::before, #sk-container-id-2 div.sk-parallel-item::before {content: \"\";position: absolute;border-left: 1px solid gray;box-sizing: border-box;top: 0;bottom: 0;left: 50%;z-index: -1;}#sk-container-id-2 div.sk-parallel-item {display: flex;flex-direction: column;z-index: 1;position: relative;background-color: white;}#sk-container-id-2 div.sk-parallel-item:first-child::after {align-self: flex-end;width: 50%;}#sk-container-id-2 div.sk-parallel-item:last-child::after {align-self: flex-start;width: 50%;}#sk-container-id-2 div.sk-parallel-item:only-child::after {width: 0;}#sk-container-id-2 div.sk-dashed-wrapped {border: 1px dashed gray;margin: 0 0.4em 0.5em 0.4em;box-sizing: border-box;padding-bottom: 0.4em;background-color: white;}#sk-container-id-2 div.sk-label label {font-family: monospace;font-weight: bold;display: inline-block;line-height: 1.2em;}#sk-container-id-2 div.sk-label-container {text-align: center;}#sk-container-id-2 div.sk-container {/* jupyter's `normalize.less` sets `[hidden] { display: none; }` but bootstrap.min.css set `[hidden] { display: none !important; }` so we also need the `!important` here to be able to override the default hidden behavior on the sphinx rendered scikit-learn.org. See: https://github.com/scikit-learn/scikit-learn/issues/21755 */display: inline-block !important;position: relative;}#sk-container-id-2 div.sk-text-repr-fallback {display: none;}</style><div id=\"sk-container-id-2\" class=\"sk-top-container\"><div class=\"sk-text-repr-fallback\"><pre>PCA(n_components=3000, random_state=42)</pre><b>In a Jupyter environment, please rerun this cell to show the HTML representation or trust the notebook. <br />On GitHub, the HTML representation is unable to render, please try loading this page with nbviewer.org.</b></div><div class=\"sk-container\" hidden><div class=\"sk-item\"><div class=\"sk-estimator sk-toggleable\"><input class=\"sk-toggleable__control sk-hidden--visually\" id=\"sk-estimator-id-2\" type=\"checkbox\" checked><label for=\"sk-estimator-id-2\" class=\"sk-toggleable__label sk-toggleable__label-arrow\">PCA</label><div class=\"sk-toggleable__content\"><pre>PCA(n_components=3000, random_state=42)</pre></div></div></div></div></div>"
            ]
          },
          "metadata": {},
          "execution_count": 54
        }
      ]
    },
    {
      "cell_type": "code",
      "source": [
        "# transformed features\n",
        "X = pca.transform(vector)\n",
        "\n",
        "# shape of transformed vectors\n",
        "X.shape"
      ],
      "metadata": {
        "colab": {
          "base_uri": "https://localhost:8080/"
        },
        "id": "ozavjR1RFHld",
        "outputId": "66b0f44a-ad87-4209-e1c4-4ba1dc820074"
      },
      "execution_count": 55,
      "outputs": [
        {
          "output_type": "execute_result",
          "data": {
            "text/plain": [
              "(7787, 3000)"
            ]
          },
          "metadata": {},
          "execution_count": 55
        }
      ]
    },
    {
      "cell_type": "markdown",
      "metadata": {
        "id": "PXJEFz4TpSwN"
      },
      "source": [
        "##### Do you think that dimensionality reduction is needed? Explain Why?"
      ]
    },
    {
      "cell_type": "markdown",
      "metadata": {
        "id": "s6dTG0PhpSwN"
      },
      "source": [
        "Answer Here."
      ]
    },
    {
      "cell_type": "markdown",
      "metadata": {
        "id": "B4UDhmyDpSwN"
      },
      "source": [
        "##### Which dimensionality reduction technique have you used and why? (If dimensionality reduction done on dataset.)"
      ]
    },
    {
      "cell_type": "markdown",
      "metadata": {
        "id": "O_E2BOIipSwN"
      },
      "source": [
        "Answer Here."
      ]
    },
    {
      "cell_type": "markdown",
      "metadata": {
        "id": "ku2X-sg3pSwN"
      },
      "source": [
        "### 8. Handling Imbalanced Dataset"
      ]
    },
    {
      "cell_type": "markdown",
      "metadata": {
        "id": "6-3GzXXNpSwN"
      },
      "source": [
        "##### Do you think the dataset is imbalanced? Explain Why."
      ]
    },
    {
      "cell_type": "markdown",
      "metadata": {
        "id": "lw91lKyxpSwO"
      },
      "source": []
    },
    {
      "cell_type": "code",
      "execution_count": null,
      "metadata": {
        "id": "-lgyCjq_pSwO"
      },
      "outputs": [],
      "source": []
    },
    {
      "cell_type": "code",
      "source": [],
      "metadata": {
        "id": "SJVVVV9n6TIk"
      },
      "execution_count": null,
      "outputs": []
    },
    {
      "cell_type": "code",
      "source": [],
      "metadata": {
        "id": "qxKN-mCt7grV"
      },
      "execution_count": null,
      "outputs": []
    },
    {
      "cell_type": "markdown",
      "metadata": {
        "id": "btXE_i-kpSwO"
      },
      "source": [
        "##### What technique did you use to handle the imbalance dataset and why? (If needed to be balanced)"
      ]
    },
    {
      "cell_type": "markdown",
      "metadata": {
        "id": "TcWL7TyvpSwO"
      },
      "source": []
    },
    {
      "cell_type": "markdown",
      "metadata": {
        "id": "q2BAg50ZpSwP"
      },
      "source": [
        "### 9. Data Scaling"
      ]
    },
    {
      "cell_type": "code",
      "execution_count": null,
      "metadata": {
        "id": "qhq3MAvhTYwG"
      },
      "outputs": [],
      "source": []
    },
    {
      "cell_type": "markdown",
      "metadata": {
        "id": "NB_Eon_0pSwP"
      },
      "source": [
        "##### Which method have you used to scale you data and why?"
      ]
    },
    {
      "cell_type": "markdown",
      "source": [],
      "metadata": {
        "id": "zvnHNDYc4bpz"
      }
    },
    {
      "cell_type": "markdown",
      "metadata": {
        "id": "q67w2oe0S3tN"
      },
      "source": [
        "# **Conclusion**"
      ]
    },
    {
      "cell_type": "markdown",
      "source": [
        "## Conclusions drawn from EDA"
      ],
      "metadata": {
        "id": "Lfcl68kQhBW4"
      }
    },
    {
      "cell_type": "markdown",
      "source": [],
      "metadata": {
        "id": "QqHJKL4AYTyn"
      }
    },
    {
      "cell_type": "markdown",
      "source": [
        "## Conclusions drawn from ML Model "
      ],
      "metadata": {
        "id": "rhnEu-EchGQk"
      }
    },
    {
      "cell_type": "markdown",
      "metadata": {
        "id": "xRdH3Ku3S3tO"
      },
      "source": []
    },
    {
      "cell_type": "markdown",
      "metadata": {
        "id": "BE9pvNgTS3tO"
      },
      "source": [
        "### ***Hurrah! You have successfully completed your Machine Learning Capstone Project !!!***"
      ]
    }
  ]
}